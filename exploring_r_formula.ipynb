{
 "metadata": {
  "name": "exploring_r_formula"
 },
 "nbformat": 3,
 "nbformat_minor": 0,
 "worksheets": [
  {
   "cells": [
    {
     "cell_type": "markdown",
     "metadata": {},
     "source": [
      "In which I try to explain the `R` formula object."
     ]
    },
    {
     "cell_type": "heading",
     "level": 2,
     "metadata": {},
     "source": [
      "What is an R formula?"
     ]
    },
    {
     "cell_type": "markdown",
     "metadata": {},
     "source": [
      "The standard reference on R / S models, which is Chapter 2 \"Statistical Models\" in \"Statistical models in S\", by John M. Chambers and Trevor J. Hastie (1992). I'll call this \"S models chapter 2\".\n",
      "\n",
      "> \"Formulas as discussed here follow generally the style of Wilkinson and Rogers (1973), and subsequently adopted by many statistical programs such as `GLIM` and `GENSTAT`.  While originally introduced in the context of the analysis of variance, the notation is in fact just a shorthand for expressing the set of terms defined separately and jointly by a number of variables, typically factors.\" section 2.3.1 of S models chapter 2: "
     ]
    },
    {
     "cell_type": "markdown",
     "metadata": {},
     "source": [
      "Most of the time we'll be looking at the relationship of the R `formula` to the design matrix for a linear model.\n",
      "\n",
      "To start with, we're only going to be using the most basic operators in R's formula syntax, which are `+` and `:`.  `a + b` means include both of terms `a` and `b` in the model, and `a:b` means model interaction between term `a` and term `b`.  There are various other operators that we'll list later, that can be expressed in terms of the `+` and the `:`."
     ]
    },
    {
     "cell_type": "heading",
     "level": 2,
     "metadata": {},
     "source": [
      "Some code we need to get started"
     ]
    },
    {
     "cell_type": "markdown",
     "metadata": {},
     "source": [
      "First we start numpy for the array routines and matplotlib for the figures"
     ]
    },
    {
     "cell_type": "code",
     "collapsed": false,
     "input": [
      "%pylab inline"
     ],
     "language": "python",
     "metadata": {},
     "outputs": [
      {
       "output_type": "stream",
       "stream": "stdout",
       "text": [
        "\n",
        "Welcome to pylab, a matplotlib-based Python environment [backend: module://IPython.zmq.pylab.backend_inline].\n",
        "For more information, type 'help(pylab)'.\n"
       ]
      }
     ],
<<<<<<< HEAD
     "prompt_number": 1
=======
     "prompt_number": 22
>>>>>>> 49456bd5b0b4623f1b0fa981a3b1e5c253e34b99
    },
    {
     "cell_type": "markdown",
     "metadata": {},
     "source": [
      "Actually, we get the following imports from the `pylab` command above, but just to be clear"
     ]
    },
    {
     "cell_type": "code",
     "collapsed": false,
     "input": [
      "import numpy as np\n",
      "import matplotlib.pylab as plt"
     ],
     "language": "python",
     "metadata": {},
     "outputs": [],
<<<<<<< HEAD
     "prompt_number": 2
=======
     "prompt_number": 23
>>>>>>> 49456bd5b0b4623f1b0fa981a3b1e5c253e34b99
    },
    {
     "cell_type": "markdown",
     "metadata": {},
     "source": [
      "Next we start the extension to allow us to embed R commands in the notebook"
     ]
    },
    {
     "cell_type": "code",
     "collapsed": false,
     "input": [
      "%load_ext rmagic"
     ],
     "language": "python",
     "metadata": {},
     "outputs": [],
<<<<<<< HEAD
     "prompt_number": 3
=======
     "prompt_number": 24
>>>>>>> 49456bd5b0b4623f1b0fa981a3b1e5c253e34b99
    },
    {
     "cell_type": "markdown",
     "metadata": {},
     "source": [
      "I'm used to looking at design matrices as image plots, and to do that, I need some little utility functions for matplotlib"
     ]
    },
    {
     "cell_type": "code",
     "collapsed": false,
     "input": [
      "def scale_design_mtx(X):\n",
      "    \"\"\"utility to scale the design matrix for display\"\"\"\n",
      "    mi, ma = X.min(axis=0), X.max(axis=0)\n",
      "    col_neq = (ma - mi) > 1.e-8\n",
      "    Xs = np.ones_like(X)\n",
      "    mi = mi[col_neq]\n",
      "    ma = ma[col_neq]\n",
      "    Xs[:,col_neq] = (X[:,col_neq] - mi)/(ma - mi)\n",
      "    return Xs"
     ],
     "language": "python",
     "metadata": {},
     "outputs": [],
<<<<<<< HEAD
     "prompt_number": 4
=======
     "prompt_number": 25
>>>>>>> 49456bd5b0b4623f1b0fa981a3b1e5c253e34b99
    },
    {
     "cell_type": "code",
     "collapsed": false,
     "input": [
      "def show_x(X, title='Design matrix'):\n",
      "    \"\"\" Utility to show a design matrix \"\"\"\n",
      "    N, P = X.shape\n",
      "    plt.imshow(scale_design_mtx(X), interpolation='nearest', cmap=plt.cm.gray)\n",
      "    plt.title(title)\n",
      "    # Only integer ticks for the design matrix columns\n",
      "    ax = plt.gca()\n",
      "    ticks = ax.get_xticks()\n",
      "    ax.set_xticks(ticks[(ticks == np.round(ticks)) & (ticks >= 0)])\n",
      "    ax.set_xlim(-0.5, P-0.5)"
     ],
     "language": "python",
     "metadata": {},
     "outputs": [],
<<<<<<< HEAD
     "prompt_number": 5
=======
     "prompt_number": 26
>>>>>>> 49456bd5b0b4623f1b0fa981a3b1e5c253e34b99
    },
    {
     "cell_type": "markdown",
     "metadata": {},
     "source": [
      "Let's test that with a fake design matrix"
     ]
    },
    {
     "cell_type": "code",
     "collapsed": false,
     "input": [
      "show_x(np.random.normal(size=(10, 3)), 'My design')"
     ],
     "language": "python",
     "metadata": {},
     "outputs": [
      {
       "output_type": "display_data",
<<<<<<< HEAD
       "png": "iVBORw0KGgoAAAANSUhEUgAAAFoAAAEICAYAAADfmeNKAAAABHNCSVQICAgIfAhkiAAAAAlwSFlz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\nAAAASUVORK5CYII=\n",
       "text": [
        "<matplotlib.figure.Figure at 0x102788390>"
       ]
      }
     ],
     "prompt_number": 6
=======
       "png": "iVBORw0KGgoAAAANSUhEUgAAAFoAAAEICAYAAADfmeNKAAAABHNCSVQICAgIfAhkiAAAAAlwSFlz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\noYn8D1rx7UVgUuBNAAAAAElFTkSuQmCC\n"
      }
     ],
     "prompt_number": 27
>>>>>>> 49456bd5b0b4623f1b0fa981a3b1e5c253e34b99
    },
    {
     "cell_type": "heading",
     "level": 2,
     "metadata": {},
     "source": [
      "Exploring simple regression"
     ]
    },
    {
     "cell_type": "markdown",
     "metadata": {},
     "source": [
      "We start with a simple linear regression of one variable against another : $Y \\approx \\beta_1 x_1 + C$.  $Y$ is the vector of data we want to predict using the covariate $x_1$ times some slope $\\beta_1$ plus an intercept $C$.  Let's imagine that our data $y_i = y_1 ... y_N$ is a vector of citation scores for $N$ authors.  Maybe our covariate values $x_{1i} = x_{11} .. x_{1N}$ are the ages of author $i$."
     ]
    },
    {
     "cell_type": "code",
     "collapsed": false,
     "input": [
      "N = 15\n",
      "x1 = [49., 50, 45, 53, 69, 73, 35, 40, 36, 30, 49, 36, 73, 61, 74]\n",
      "Y = [ 132.03, 98.64, 146.24, 97.9, 145.12, 191.78, 155.34, 123.08, 140.87,\n",
      "      122.51, 146.08, 89.3, 134.52, 89.16, 136.08]"
     ],
     "language": "python",
     "metadata": {},
     "outputs": [],
<<<<<<< HEAD
     "prompt_number": 7
=======
     "prompt_number": 28
>>>>>>> 49456bd5b0b4623f1b0fa981a3b1e5c253e34b99
    },
    {
     "cell_type": "code",
     "collapsed": false,
     "input": [
      "%%R -i x1,Y -o X\n",
      "XYfit = lm(Y~x1)\n",
      "X = model.matrix(XYfit)"
     ],
     "language": "python",
     "metadata": {},
     "outputs": [],
<<<<<<< HEAD
     "prompt_number": 8
=======
     "prompt_number": 29
>>>>>>> 49456bd5b0b4623f1b0fa981a3b1e5c253e34b99
    },
    {
     "cell_type": "code",
     "collapsed": false,
     "input": [
      "X"
     ],
     "language": "python",
     "metadata": {},
     "outputs": [
      {
       "output_type": "pyout",
<<<<<<< HEAD
       "prompt_number": 9,
=======
       "prompt_number": 30,
>>>>>>> 49456bd5b0b4623f1b0fa981a3b1e5c253e34b99
       "text": [
        "array([[  1.,  49.],\n",
        "       [  1.,  50.],\n",
        "       [  1.,  45.],\n",
        "       [  1.,  53.],\n",
        "       [  1.,  69.],\n",
        "       [  1.,  73.],\n",
        "       [  1.,  35.],\n",
        "       [  1.,  40.],\n",
        "       [  1.,  36.],\n",
        "       [  1.,  30.],\n",
        "       [  1.,  49.],\n",
        "       [  1.,  36.],\n",
        "       [  1.,  73.],\n",
        "       [  1.,  61.],\n",
        "       [  1.,  74.]])"
       ]
      }
     ],
<<<<<<< HEAD
     "prompt_number": 9
=======
     "prompt_number": 30
>>>>>>> 49456bd5b0b4623f1b0fa981a3b1e5c253e34b99
    },
    {
     "cell_type": "code",
     "collapsed": false,
     "input": [
      "show_x(X, 'Simple linear regression')"
     ],
     "language": "python",
     "metadata": {},
     "outputs": [
      {
       "output_type": "display_data",
<<<<<<< HEAD
       "png": "iVBORw0KGgoAAAANSUhEUgAAAJ8AAAEICAYAAABBDyavAAAABHNCSVQICAgIfAhkiAAAAAlwSFlz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\nbCR8go2ET7D5P0/GmYM+aU1+AAAAAElFTkSuQmCC\n",
       "text": [
        "<matplotlib.figure.Figure at 0x107b1a510>"
       ]
      }
     ],
     "prompt_number": 10
=======
       "png": "iVBORw0KGgoAAAANSUhEUgAAAJ8AAAEICAYAAABBDyavAAAABHNCSVQICAgIfAhkiAAAAAlwSFlz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\nwurErIoAAAAASUVORK5CYII=\n"
      }
     ],
     "prompt_number": 31
>>>>>>> 49456bd5b0b4623f1b0fa981a3b1e5c253e34b99
    },
    {
     "cell_type": "markdown",
     "metadata": {},
     "source": [
      "We don't have to specify data to get a model matrix:"
     ]
    },
    {
     "cell_type": "code",
     "collapsed": false,
     "input": [
      "%R model.matrix(~ x1)"
     ],
     "language": "python",
     "metadata": {},
     "outputs": [
      {
       "output_type": "pyout",
<<<<<<< HEAD
       "prompt_number": 11,
=======
       "prompt_number": 32,
>>>>>>> 49456bd5b0b4623f1b0fa981a3b1e5c253e34b99
       "text": [
        "array([[  1.,  49.],\n",
        "       [  1.,  50.],\n",
        "       [  1.,  45.],\n",
        "       [  1.,  53.],\n",
        "       [  1.,  69.],\n",
        "       [  1.,  73.],\n",
        "       [  1.,  35.],\n",
        "       [  1.,  40.],\n",
        "       [  1.,  36.],\n",
        "       [  1.,  30.],\n",
        "       [  1.,  49.],\n",
        "       [  1.,  36.],\n",
        "       [  1.,  73.],\n",
        "       [  1.,  61.],\n",
        "       [  1.,  74.]])"
       ]
      }
     ],
<<<<<<< HEAD
     "prompt_number": 11
=======
     "prompt_number": 32
>>>>>>> 49456bd5b0b4623f1b0fa981a3b1e5c253e34b99
    },
    {
     "cell_type": "markdown",
     "metadata": {},
     "source": [
      "OK, so the first thing we see is that R decided we wanted an intercept.  The intercept became a column of ones in the design matrix, and goes first in the design matrix.  So, our model above, `Y ~ x1` is in fact `Y ~ x1 + 1` in R terms:"
     ]
    },
    {
     "cell_type": "code",
     "collapsed": false,
     "input": [
      "%R model.matrix(~x1 + 1)"
     ],
     "language": "python",
     "metadata": {},
     "outputs": [
      {
       "output_type": "pyout",
<<<<<<< HEAD
       "prompt_number": 12,
=======
       "prompt_number": 33,
>>>>>>> 49456bd5b0b4623f1b0fa981a3b1e5c253e34b99
       "text": [
        "array([[  1.,  49.],\n",
        "       [  1.,  50.],\n",
        "       [  1.,  45.],\n",
        "       [  1.,  53.],\n",
        "       [  1.,  69.],\n",
        "       [  1.,  73.],\n",
        "       [  1.,  35.],\n",
        "       [  1.,  40.],\n",
        "       [  1.,  36.],\n",
        "       [  1.,  30.],\n",
        "       [  1.,  49.],\n",
        "       [  1.,  36.],\n",
        "       [  1.,  73.],\n",
        "       [  1.,  61.],\n",
        "       [  1.,  74.]])"
       ]
      }
     ],
<<<<<<< HEAD
     "prompt_number": 12
=======
     "prompt_number": 33
>>>>>>> 49456bd5b0b4623f1b0fa981a3b1e5c253e34b99
    },
    {
     "cell_type": "markdown",
     "metadata": {},
     "source": [
      "We see also that there's nothing we can do about where the column of ones goes; it goes at the front.  This is a specific application of some general rules that R applies when making the design matrix from a formula, as we'll see later."
     ]
    },
    {
     "cell_type": "markdown",
     "metadata": {},
     "source": [
      "If we already have a constant in the model we still get a new one, whether we asked for one or not."
     ]
    },
    {
     "cell_type": "code",
     "collapsed": false,
     "input": [
      "C = np.ones((N,))\n",
      "%Rpush C\n",
      "%R model.matrix(~x1 + C)"
     ],
     "language": "python",
     "metadata": {},
     "outputs": [
      {
       "output_type": "pyout",
<<<<<<< HEAD
       "prompt_number": 13,
=======
       "prompt_number": 34,
>>>>>>> 49456bd5b0b4623f1b0fa981a3b1e5c253e34b99
       "text": [
        "array([[  1.,  49.,   1.],\n",
        "       [  1.,  50.,   1.],\n",
        "       [  1.,  45.,   1.],\n",
        "       [  1.,  53.,   1.],\n",
        "       [  1.,  69.,   1.],\n",
        "       [  1.,  73.,   1.],\n",
        "       [  1.,  35.,   1.],\n",
        "       [  1.,  40.,   1.],\n",
        "       [  1.,  36.,   1.],\n",
        "       [  1.,  30.,   1.],\n",
        "       [  1.,  49.,   1.],\n",
        "       [  1.,  36.,   1.],\n",
        "       [  1.,  73.,   1.],\n",
        "       [  1.,  61.,   1.],\n",
        "       [  1.,  74.,   1.]])"
       ]
      }
     ],
<<<<<<< HEAD
     "prompt_number": 13
=======
     "prompt_number": 34
>>>>>>> 49456bd5b0b4623f1b0fa981a3b1e5c253e34b99
    },
    {
     "cell_type": "markdown",
     "metadata": {},
     "source": [
      "But we can turn off the added constant by hand with the '- 1' shorthand:"
     ]
    },
    {
     "cell_type": "code",
     "collapsed": false,
     "input": [
      "%R model.matrix(~x1 - 1)"
     ],
     "language": "python",
     "metadata": {},
     "outputs": [
      {
       "output_type": "pyout",
<<<<<<< HEAD
       "prompt_number": 14,
=======
       "prompt_number": 35,
>>>>>>> 49456bd5b0b4623f1b0fa981a3b1e5c253e34b99
       "text": [
        "array([[ 49.],\n",
        "       [ 50.],\n",
        "       [ 45.],\n",
        "       [ 53.],\n",
        "       [ 69.],\n",
        "       [ 73.],\n",
        "       [ 35.],\n",
        "       [ 40.],\n",
        "       [ 36.],\n",
        "       [ 30.],\n",
        "       [ 49.],\n",
        "       [ 36.],\n",
        "       [ 73.],\n",
        "       [ 61.],\n",
        "       [ 74.]])"
       ]
      }
     ],
<<<<<<< HEAD
     "prompt_number": 14
=======
     "prompt_number": 35
>>>>>>> 49456bd5b0b4623f1b0fa981a3b1e5c253e34b99
    },
    {
     "cell_type": "markdown",
     "metadata": {},
     "source": [
      "Multiple regression : $Y \\approx \\beta_1 x_1 + \\beta_2 x_2 + C$"
     ]
    },
    {
     "cell_type": "code",
     "collapsed": false,
     "input": [
      "x2 = np.arange(N)\n",
      "%Rpush x2\n",
      "X = %R model.matrix(~ x1 + x2)\n",
      "show_x(X, 'Two variables')"
     ],
     "language": "python",
     "metadata": {},
     "outputs": [
      {
       "output_type": "display_data",
<<<<<<< HEAD
       "png": "iVBORw0KGgoAAAANSUhEUgAAAF8AAAEICAYAAAA5sCgOAAAABHNCSVQICAgIfAhkiAAAAAlwSFlz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\n",
       "text": [
        "<matplotlib.figure.Figure at 0x107afaa90>"
       ]
      }
     ],
     "prompt_number": 15
=======
       "png": "iVBORw0KGgoAAAANSUhEUgAAAF8AAAEICAYAAAA5sCgOAAAABHNCSVQICAgIfAhkiAAAAAlwSFlz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\nuHyGcPkM+T+J8GYVPs+sawAAAABJRU5ErkJggg==\n"
      }
     ],
     "prompt_number": 36
>>>>>>> 49456bd5b0b4623f1b0fa981a3b1e5c253e34b99
    },
    {
     "cell_type": "markdown",
     "metadata": {},
     "source": [
      "Yes, intercept at the front, `x1`, then `x2`"
     ]
    },
    {
     "cell_type": "code",
     "collapsed": false,
     "input": [
      "X = %R model.matrix(~ x2 + x1)\n",
      "show_x(X, 'Same two variables')"
     ],
     "language": "python",
     "metadata": {},
     "outputs": [
      {
       "output_type": "display_data",
<<<<<<< HEAD
       "png": "iVBORw0KGgoAAAANSUhEUgAAAIQAAAEICAYAAACeQVywAAAABHNCSVQICAgIfAhkiAAAAAlwSFlz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\na2ECAAAAAElFTkSuQmCC\n",
       "text": [
        "<matplotlib.figure.Figure at 0x107b183d0>"
       ]
      }
     ],
     "prompt_number": 16
=======
       "png": "iVBORw0KGgoAAAANSUhEUgAAAIQAAAEICAYAAACeQVywAAAABHNCSVQICAgIfAhkiAAAAAlwSFlz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\ngg==\n"
      }
     ],
     "prompt_number": 37
>>>>>>> 49456bd5b0b4623f1b0fa981a3b1e5c253e34b99
    },
    {
     "cell_type": "markdown",
     "metadata": {},
     "source": [
      "You can see from the plot above that the order of columns in the design matrix is determined by order of entry of variables into the formula."
     ]
    },
    {
     "cell_type": "markdown",
     "metadata": {},
     "source": [
      "R uses `:` for expressing the *interaction* between variables:"
     ]
    },
    {
     "cell_type": "code",
     "collapsed": false,
     "input": [
      "X = %R model.matrix(~x1 + x2 + x1:x2)\n",
      "show_x(X, \"Two variables and their interaction\")"
     ],
     "language": "python",
     "metadata": {},
     "outputs": [
      {
       "output_type": "display_data",
<<<<<<< HEAD
       "png": "iVBORw0KGgoAAAANSUhEUgAAAN4AAAEICAYAAAAwd0oxAAAABHNCSVQICAgIfAhkiAAAAAlwSFlz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\nMaOPnNoAAAAASUVORK5CYII=\n",
       "text": [
        "<matplotlib.figure.Figure at 0x107b70050>"
       ]
      }
     ],
     "prompt_number": 17
=======
       "png": "iVBORw0KGgoAAAANSUhEUgAAAN4AAAEICAYAAAAwd0oxAAAABHNCSVQICAgIfAhkiAAAAAlwSFlz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\n"
      }
     ],
     "prompt_number": 38
>>>>>>> 49456bd5b0b4623f1b0fa981a3b1e5c253e34b99
    },
    {
     "cell_type": "markdown",
     "metadata": {},
     "source": [
      "In this case it is an interaction between two numerical variables, but later we'll see interaction between factors.  The interaction column for two numerical variables like `x1` and `x2` is the elementwise product of `x1` and `x2`."
     ]
    },
    {
     "cell_type": "code",
     "collapsed": false,
     "input": [
      "X[:,3] == x1 * x2"
     ],
     "language": "python",
     "metadata": {},
     "outputs": [
      {
       "output_type": "pyout",
<<<<<<< HEAD
       "prompt_number": 18,
=======
       "prompt_number": 39,
>>>>>>> 49456bd5b0b4623f1b0fa981a3b1e5c253e34b99
       "text": [
        "array([ True,  True,  True,  True,  True,  True,  True,  True,  True,\n",
        "        True,  True,  True,  True,  True,  True], dtype=bool)"
       ]
      }
     ],
<<<<<<< HEAD
     "prompt_number": 18
=======
     "prompt_number": 39
>>>>>>> 49456bd5b0b4623f1b0fa981a3b1e5c253e34b99
    },
    {
     "cell_type": "markdown",
     "metadata": {},
     "source": [
      "The interaction column always comes after the \"main effects\" `x1` and `x2`, no matter how we ask for them"
     ]
    },
    {
     "cell_type": "code",
     "collapsed": false,
     "input": [
      "X2 = %R model.matrix(~ x1:x2 + x1 + x2)\n",
      "if np.all(X == X2):\n",
      "    print \"Designs are the same\"\n",
      "%R print(coef(lm(Y ~ x1:x2 + x1 + x2)))"
     ],
     "language": "python",
     "metadata": {},
     "outputs": [
      {
       "output_type": "stream",
       "stream": "stdout",
       "text": [
        "Designs are the same\n"
       ]
      },
      {
       "output_type": "display_data",
       "text": [
        "(Intercept)          x1          x2       x1:x2 \n",
        "78.19705800  1.15405802  2.57086251 -0.06924777 \n"
       ]
      }
     ],
<<<<<<< HEAD
     "prompt_number": 19
=======
     "prompt_number": 40
>>>>>>> 49456bd5b0b4623f1b0fa981a3b1e5c253e34b99
    },
    {
     "cell_type": "markdown",
     "metadata": {},
     "source": [
      "All the interactions come after all the main effects, even if there are other main effect not related to the interactions"
     ]
    },
    {
     "cell_type": "code",
     "collapsed": false,
     "input": [
      "x3 = np.random.normal(size=(N,))\n",
      "x4 = np.random.normal(size=(N,))\n",
      "%Rpush x3 x4"
     ],
     "language": "python",
     "metadata": {},
     "outputs": [],
<<<<<<< HEAD
     "prompt_number": 20
=======
     "prompt_number": 41
>>>>>>> 49456bd5b0b4623f1b0fa981a3b1e5c253e34b99
    },
    {
     "cell_type": "code",
     "collapsed": false,
     "input": [
      "%R print(coef(lm(Y ~ x1 + x2 + x1:x2 + x3 + x4)))"
     ],
     "language": "python",
     "metadata": {},
     "outputs": [
      {
       "output_type": "display_data",
       "text": [
        "(Intercept)          x1          x2          x3          x4       x1:x2 \n",
<<<<<<< HEAD
        " -8.4328231   2.9432043  11.4556562  22.3950622   3.9809250  -0.2425592 \n"
       ]
      }
     ],
     "prompt_number": 21
=======
        " 41.7019067   1.8098469   6.8951354  12.7209621  11.2816117  -0.1666938 \n"
       ]
      }
     ],
     "prompt_number": 42
>>>>>>> 49456bd5b0b4623f1b0fa981a3b1e5c253e34b99
    },
    {
     "cell_type": "heading",
     "level": 2,
     "metadata": {},
     "source": [
      "Factors in formulae"
     ]
    },
    {
     "cell_type": "markdown",
     "metadata": {},
     "source": [
      "Quoting again from the Chambers and Hastie chapter, section 2.2.1: \"A factor is an object that represents values from some specified set of possible *levels*\".  For example, we might have a 'nationality' factor that represents the nationality of subjects in our sample.  Maybe the subjects all come from one of the USA, UK or France."
     ]
    },
    {
     "cell_type": "code",
     "collapsed": false,
     "input": [
      "nationality = ['USA'] * 5 + ['UK'] * 5 + ['France'] * 5"
     ],
     "language": "python",
     "metadata": {},
     "outputs": [],
<<<<<<< HEAD
     "prompt_number": 22
=======
     "prompt_number": 43
>>>>>>> 49456bd5b0b4623f1b0fa981a3b1e5c253e34b99
    },
    {
     "cell_type": "markdown",
     "metadata": {},
     "source": [
      "Because this is a string variable, R's formula will assume this is a factor"
     ]
    },
    {
     "cell_type": "code",
     "collapsed": false,
     "input": [
      "%Rpush nationality"
     ],
     "language": "python",
     "metadata": {},
     "outputs": [],
<<<<<<< HEAD
     "prompt_number": 23
=======
     "prompt_number": 44
>>>>>>> 49456bd5b0b4623f1b0fa981a3b1e5c253e34b99
    },
    {
     "cell_type": "code",
     "collapsed": false,
     "input": [
      "%R print(model.matrix( ~ nationality))"
     ],
     "language": "python",
     "metadata": {},
     "outputs": [
      {
       "output_type": "display_data",
       "text": [
        "   (Intercept) nationalityUK nationalityUSA\n",
        "1            1             0              1\n",
        "2            1             0              1\n",
        "3            1             0              1\n",
        "4            1             0              1\n",
        "5            1             0              1\n",
        "6            1             1              0\n",
        "7            1             1              0\n",
        "8            1             1              0\n",
        "9            1             1              0\n",
        "10           1             1              0\n",
        "11           1             0              0\n",
        "12           1             0              0\n",
        "13           1             0              0\n",
        "14           1             0              0\n",
        "15           1             0              0\n",
        "attr(,\"assign\")\n",
        "[1] 0 1 1\n",
        "attr(,\"contrasts\")\n",
        "attr(,\"contrasts\")$nationality\n",
        "[1] \"contr.treatment\"\n",
        "\n",
        "Warning message:\n",
        "In model.matrix.default(~nationality) :\n",
        "  variable 'nationality' converted to a factor\n"
       ]
      }
     ],
<<<<<<< HEAD
     "prompt_number": 24
=======
     "prompt_number": 45
>>>>>>> 49456bd5b0b4623f1b0fa981a3b1e5c253e34b99
    },
    {
     "cell_type": "markdown",
     "metadata": {},
     "source": [
      "To be more specific, and avoid the warning, we'll tell R that `nationality` is a factor:"
     ]
    },
    {
     "cell_type": "code",
     "collapsed": false,
     "input": [
      "%%R\n",
      "nationality = factor(nationality)\n",
      "print(levels(nationality))\n",
      "print(model.matrix( ~ nationality))"
     ],
     "language": "python",
     "metadata": {},
     "outputs": [
      {
       "output_type": "display_data",
       "text": [
        "[1] \"France\" \"UK\"     \"USA\"   \n",
        "   (Intercept) nationalityUK nationalityUSA\n",
        "1            1             0              1\n",
        "2            1             0              1\n",
        "3            1             0              1\n",
        "4            1             0              1\n",
        "5            1             0              1\n",
        "6            1             1              0\n",
        "7            1             1              0\n",
        "8            1             1              0\n",
        "9            1             1              0\n",
        "10           1             1              0\n",
        "11           1             0              0\n",
        "12           1             0              0\n",
        "13           1             0              0\n",
        "14           1             0              0\n",
        "15           1             0              0\n",
        "attr(,\"assign\")\n",
        "[1] 0 1 1\n",
        "attr(,\"contrasts\")\n",
        "attr(,\"contrasts\")$nationality\n",
        "[1] \"contr.treatment\"\n",
        "\n"
       ]
      }
     ],
<<<<<<< HEAD
     "prompt_number": 25
=======
     "prompt_number": 46
>>>>>>> 49456bd5b0b4623f1b0fa981a3b1e5c253e34b99
    },
    {
     "cell_type": "markdown",
     "metadata": {},
     "source": [
      "First note the levels.  R has sorted the levels alphabetically from the values in the vector.  So, the first level is now \"France\". Note the design matrix.  The intercept is there by default.  There are then two columns representing the factor.  The first is a column representing the difference between the reference level (the first level, \"France\") and the second level (\"UK\").  The second is a column representing the difference between \"France\" and \"USA\".  This is one of several possible choices for dummy variable coding of a factor in the design matrix.  This particular coding is called 'treatment' coding.  You'll see that noted as `'contr.treatment'` at the end of the model matrix printed output.  It's called 'treatment' coding because the first level is taken to be the 'no treatment' level and the others are taken to be 'treatment' groups to be compared to the no-treatment control."
     ]
    },
    {
     "cell_type": "markdown",
     "metadata": {},
     "source": [
      "There are various ways of changing how the factor gets coded as columns in the design matrix.  For example:"
     ]
    },
    {
     "cell_type": "code",
     "collapsed": false,
     "input": [
      "%R print(model.matrix( ~ C(nationality, helmert)))"
     ],
     "language": "python",
     "metadata": {},
     "outputs": [
      {
       "output_type": "display_data",
       "text": [
        "   (Intercept) C(nationality, helmert)1 C(nationality, helmert)2\n",
        "1            1                        0                        2\n",
        "2            1                        0                        2\n",
        "3            1                        0                        2\n",
        "4            1                        0                        2\n",
        "5            1                        0                        2\n",
        "6            1                        1                       -1\n",
        "7            1                        1                       -1\n",
        "8            1                        1                       -1\n",
        "9            1                        1                       -1\n",
        "10           1                        1                       -1\n",
        "11           1                       -1                       -1\n",
        "12           1                       -1                       -1\n",
        "13           1                       -1                       -1\n",
        "14           1                       -1                       -1\n",
        "15           1                       -1                       -1\n",
        "attr(,\"assign\")\n",
        "[1] 0 1 1\n",
        "attr(,\"contrasts\")\n",
        "attr(,\"contrasts\")$`C(nationality, helmert)`\n",
        "[1] \"contr.helmert\"\n",
        "\n"
       ]
      }
     ],
<<<<<<< HEAD
     "prompt_number": 26
=======
     "prompt_number": 47
>>>>>>> 49456bd5b0b4623f1b0fa981a3b1e5c253e34b99
    },
    {
     "cell_type": "markdown",
     "metadata": {},
     "source": [
      "This coding is of type 'helmert'; the first column encodes the difference between 'UK' and 'USA'; the second is the difference between 'France' and the average of ('UK', 'USA')."
     ]
    },
    {
     "cell_type": "markdown",
     "metadata": {},
     "source": [
      "You can even pass in your own contrast matrices or vectors.  If a vector, as below, then R fills out the rest of the contrast matrix to make coding columns that cover the space of the factor."
     ]
    },
    {
     "cell_type": "code",
     "collapsed": false,
     "input": [
      "%R print(model.matrix( ~ C(nationality, c(2,-1,-1))))"
     ],
     "language": "python",
     "metadata": {},
     "outputs": [
      {
       "output_type": "display_data",
       "text": [
        "   (Intercept) C(nationality, c(2, -1, -1))1 C(nationality, c(2, -1, -1))2\n",
        "1            1                            -1                  7.071068e-01\n",
        "2            1                            -1                  7.071068e-01\n",
        "3            1                            -1                  7.071068e-01\n",
        "4            1                            -1                  7.071068e-01\n",
        "5            1                            -1                  7.071068e-01\n",
        "6            1                            -1                 -7.071068e-01\n",
        "7            1                            -1                 -7.071068e-01\n",
        "8            1                            -1                 -7.071068e-01\n",
        "9            1                            -1                 -7.071068e-01\n",
        "10           1                            -1                 -7.071068e-01\n",
        "11           1                             2                 -5.551115e-17\n",
        "12           1                             2                 -5.551115e-17\n",
        "13           1                             2                 -5.551115e-17\n",
        "14           1                             2                 -5.551115e-17\n",
        "15           1                             2                 -5.551115e-17\n",
        "attr(,\"assign\")\n",
        "[1] 0 1 1\n",
        "attr(,\"contrasts\")\n",
        "attr(,\"contrasts\")$`C(nationality, c(2, -1, -1))`\n",
        "       [,1]          [,2]\n",
        "France    2 -5.551115e-17\n",
        "UK       -1 -7.071068e-01\n",
        "USA      -1  7.071068e-01\n",
        "\n"
       ]
      }
     ],
<<<<<<< HEAD
     "prompt_number": 27
=======
     "prompt_number": 48
>>>>>>> 49456bd5b0b4623f1b0fa981a3b1e5c253e34b99
    },
    {
     "cell_type": "markdown",
     "metadata": {},
     "source": [
      "\"treatment\" and \"helmert\" and the `c(2, -1, -1)` option are *contrast* codings of the factor.  By \"coding\" I mean the coding of the factor in terms of dummy variables in the design matrix.  As the name implies, the contrast codings encode the means implied by the factors by contrasting the different levels.  Specifically for the default \"treatment\" coding, the coding contrasts the second level to the first, and the third level to the first."
     ]
    },
    {
     "cell_type": "heading",
     "level": 2,
     "metadata": {},
     "source": [
      "An interlude on vector spaces"
     ]
    },
    {
     "cell_type": "markdown",
     "metadata": {},
     "source": [
      "I've deliberately used the vague phrase 'encode the means' above, but now I'll get more specific.\n",
      "\n",
<<<<<<< HEAD
      "The design matrix $X$ is best thought of as the concatenation of the column vectors $x_1 .. x_P$ where $X$ is shape $N, P$.  When we estimate our linear model, there will be a corresponding $P$ length vector of coefficients $\\beta_1 .. \\beta_P$ - call this vector $B$. We will fit our data $Y$ by choosing coefficients $B$ such that $Y \\approx X B$ in some sense of $\\approx$, such as least squares.\n",
      "\n",
      "The columns of $X$ define a *vector space*.  We can call this the *column space* of $X$. The column space of $X$ is the set of all vectors that can be formed by a some linear combination of the columns of $X$. $X B$ is one particular vector in the column space of $X$.  The column space of a matrix $X$ obviously defines the range of vectors $X B$, and therefore constrains the ability of the design $X$ to fit the data $Y$.\n",
      "\n",
      "One matrix $W$ contains (spans) the column space of another matrix $X$ if, for all columns $x_1 .. x_i .. x_P$ there is some vector $B_i$ such that $x_i = W B_i$.  Let's say $W$ has $P_W$ columns. If we stack the column vectors $B_i$ into a $P_W, P$ matrix $C$ then we can rephrase the rule as: there is some matrix $C$ such that $X = W C$."
=======
      "The design matrix $X$ is best thought of as the concatenation of the column vectors $x_1 .. x_P$ where $X$ is shape (dimension) $N, P$.  When we estimate our linear model, we will estimate a corresponding $P$ length vector of coefficients $\\beta_1 .. \\beta_P$ - call this vector $B$. We will fit our data $Y$ by choosing coefficients $B$ such that $Y \\approx X B$ in some sense of $\\approx$, such as least squares.\n",
      "\n",
      "The columns of $X$ define a *vector space*.  We can call this the *column space* of $X$. The column space of $X$ is the set of all vectors that can be formed by a some linear combination of the columns of $X$. For a given $B$, $X B$ is one particular vector in the column space of $X$.  The column space of a matrix $X$ obviously defines the range of vectors $X B$, and therefore constrains the ability of the design $X$ to fit the data $Y$.\n",
      "\n",
      "The column space of a matrix $W$ contains (spans) the column space of another matrix $X$ if, for all columns $x_1 .. x_i .. x_P$ of $X$ there is some vector $B_i$ such that $x_i = W B_i$. In other words, we can construct $W$ with linear combinaisons of the $x_i$. Let's say $W$ has $P_W$ columns. If we stack the column vectors $B_i$ into a $P_W, P$ matrix $C$ then we can rephrase the rule as: there is some matrix $C$ such that $X = W C$."
>>>>>>> 49456bd5b0b4623f1b0fa981a3b1e5c253e34b99
     ]
    },
    {
     "cell_type": "heading",
     "level": 2,
     "metadata": {},
     "source": [
      "Vector spaces, design matrices and factors"
     ]
    },
    {
     "cell_type": "markdown",
     "metadata": {},
     "source": [
      "Now let us return to the factor `nationality`.  What do we mean by a \"factor\"?  We mean that the observations $y_1 .. y_N$ each belong to one and only one of three groups, where the groups are \"USA\", \"UK\", and \"France\".  In terms of our statistical model, by including the factor `nationality`, we mean this:\n",
      "\n",
<<<<<<< HEAD
      "$y_i \\approx \\alpha_{USA} \\text{ if } \\mathtt{nationality}_i \\text{ is } \\mathtt{USA}$\n",
      "\n",
      "$y_i \\approx \\alpha_{UK} \\text{ if } \\mathtt{nationality}_i \\text{ is } \\mathtt{UK}$\n",
      "\n",
      "$y_i \\approx \\alpha_{France} \\text{ if } \\mathtt{nationality}_i \\text{ is } \\mathtt{France}$\n",
=======
      "$y_i \\approx \\alpha_{USA} \\text{ if } \\mathtt{nationality}~i \\text{ is } \\mathtt{USA}$\n",
      "\n",
      "$y_i \\approx \\alpha_{UK} \\text{ if } \\mathtt{nationality}~i \\text{ is } \\mathtt{UK}$\n",
      "\n",
      "$y_i \\approx \\alpha_{France} \\text{ if } \\mathtt{nationality}~i \\text{ is } \\mathtt{France}$\n",
>>>>>>> 49456bd5b0b4623f1b0fa981a3b1e5c253e34b99
      "\n",
      "I can rephrase this model in terms of matrices by using \"indicator coding\".  There will be three columns in my matrix.  The first will be the indicator column for \"USA\", that contains a $1$ for rows corresponding to observations of type \"USA\" and a $0$ otherwise.  The second will contain a $1$ for \"UK\" observations, and the third a $1$ for \"France\" observations."
     ]
    },
    {
     "cell_type": "code",
     "collapsed": false,
     "input": [
      "nationality = np.array(nationality)\n",
      "indicate_usa = nationality == 'USA'\n",
      "indicate_uk = nationality == 'UK'\n",
      "indicate_france = nationality == 'France'\n",
      "X = np.column_stack((indicate_usa, indicate_uk, indicate_france)).astype(int)\n",
      "X"
     ],
     "language": "python",
     "metadata": {},
     "outputs": [
      {
       "output_type": "pyout",
<<<<<<< HEAD
       "prompt_number": 28,
=======
       "prompt_number": 49,
>>>>>>> 49456bd5b0b4623f1b0fa981a3b1e5c253e34b99
       "text": [
        "array([[1, 0, 0],\n",
        "       [1, 0, 0],\n",
        "       [1, 0, 0],\n",
        "       [1, 0, 0],\n",
        "       [1, 0, 0],\n",
        "       [0, 1, 0],\n",
        "       [0, 1, 0],\n",
        "       [0, 1, 0],\n",
        "       [0, 1, 0],\n",
        "       [0, 1, 0],\n",
        "       [0, 0, 1],\n",
        "       [0, 0, 1],\n",
        "       [0, 0, 1],\n",
        "       [0, 0, 1],\n",
        "       [0, 0, 1]])"
       ]
      }
     ],
<<<<<<< HEAD
     "prompt_number": 28
=======
     "prompt_number": 49
>>>>>>> 49456bd5b0b4623f1b0fa981a3b1e5c253e34b99
    },
    {
     "cell_type": "markdown",
     "metadata": {},
     "source": [
      "We can now rephrase our factor model by stacking our $\\alpha_{USA}, \\alpha_{UK}, \\alpha_{France}$ into a column vector $A$, and giving our model as $Y = X A$. "
     ]
    },
    {
     "cell_type": "markdown",
     "metadata": {},
     "source": [
      "What if we want to add an intercept to our design matrix $X$?  Let's call the design matrix with the intercept $W$:"
     ]
    },
    {
     "cell_type": "code",
     "collapsed": false,
     "input": [
      "W = np.column_stack((np.ones(N,), X))\n",
      "W"
     ],
     "language": "python",
     "metadata": {},
     "outputs": [
      {
       "output_type": "pyout",
<<<<<<< HEAD
       "prompt_number": 29,
=======
       "prompt_number": 50,
>>>>>>> 49456bd5b0b4623f1b0fa981a3b1e5c253e34b99
       "text": [
        "array([[ 1.,  1.,  0.,  0.],\n",
        "       [ 1.,  1.,  0.,  0.],\n",
        "       [ 1.,  1.,  0.,  0.],\n",
        "       [ 1.,  1.,  0.,  0.],\n",
        "       [ 1.,  1.,  0.,  0.],\n",
        "       [ 1.,  0.,  1.,  0.],\n",
        "       [ 1.,  0.,  1.,  0.],\n",
        "       [ 1.,  0.,  1.,  0.],\n",
        "       [ 1.,  0.,  1.,  0.],\n",
        "       [ 1.,  0.,  1.,  0.],\n",
        "       [ 1.,  0.,  0.,  1.],\n",
        "       [ 1.,  0.,  0.,  1.],\n",
        "       [ 1.,  0.,  0.,  1.],\n",
        "       [ 1.,  0.,  0.,  1.],\n",
        "       [ 1.,  0.,  0.,  1.]])"
       ]
      }
     ],
<<<<<<< HEAD
     "prompt_number": 29
=======
     "prompt_number": 50
>>>>>>> 49456bd5b0b4623f1b0fa981a3b1e5c253e34b99
    },
    {
     "cell_type": "markdown",
     "metadata": {},
     "source": [
      "Our design has four columns, but one of them does not contribute to the column space of $W$, because $w_1 = w_2 + w_3 + w_4$.  That is the same as saying that any vector $S * w_1$ (where $S$ is a scalar) can be exactly given by $S * w2 + S * w_3 + S * w_4$.   Put another way, $X$ (with three column vectors) contains the column space of $W$ (with 4 column vectors).\n",
      "\n",
      "What should we do about this?  There are two options.  One is - do nothing.  Our design matrix $W$ has one column more than the minimum needed to span the column space, and if we find some parameters $B$ to fit the data $Y$ to the design $W$, then we will have to take some care in interpreting the parameters, because there will be a necessary relationship between $\\beta_1$ and $\\beta_2 + \\beta_3 + \\beta_4$.\n",
      "\n",
      "Another option is choose some new and reduced set of vectors to represent the factor, that we can append to the constant column, and that can nevertheless represent the column space of $X$ (the indicator columns).   That is what R refers to as \"contrast coding\" for factors.  Let's return to the default 'treatment' contrast coding:"
     ]
    },
    {
     "cell_type": "code",
     "collapsed": false,
     "input": [
      "Z = %R model.matrix( ~ nationality)\n",
      "Z"
     ],
     "language": "python",
     "metadata": {},
     "outputs": [
      {
       "output_type": "pyout",
<<<<<<< HEAD
       "prompt_number": 30,
=======
       "prompt_number": 51,
>>>>>>> 49456bd5b0b4623f1b0fa981a3b1e5c253e34b99
       "text": [
        "array([[ 1.,  0.,  1.],\n",
        "       [ 1.,  0.,  1.],\n",
        "       [ 1.,  0.,  1.],\n",
        "       [ 1.,  0.,  1.],\n",
        "       [ 1.,  0.,  1.],\n",
        "       [ 1.,  1.,  0.],\n",
        "       [ 1.,  1.,  0.],\n",
        "       [ 1.,  1.,  0.],\n",
        "       [ 1.,  1.,  0.],\n",
        "       [ 1.,  1.,  0.],\n",
        "       [ 1.,  0.,  0.],\n",
        "       [ 1.,  0.,  0.],\n",
        "       [ 1.,  0.,  0.],\n",
        "       [ 1.,  0.,  0.],\n",
        "       [ 1.,  0.,  0.]])"
       ]
      }
     ],
<<<<<<< HEAD
     "prompt_number": 30
=======
     "prompt_number": 51
>>>>>>> 49456bd5b0b4623f1b0fa981a3b1e5c253e34b99
    },
    {
     "cell_type": "markdown",
     "metadata": {},
     "source": [
<<<<<<< HEAD
      "Does `Z` contain the column space of the indicator columns $X$?  Yes, because there is a $P, P$ matrix $C$ such that $X = Z C$:"
=======
      "Does `Z` contain the column space of the indicator columns $X$?  Yes, because there is a $(P, P)$ matrix $C$ such that $X = Z C$:"
>>>>>>> 49456bd5b0b4623f1b0fa981a3b1e5c253e34b99
     ]
    },
    {
     "cell_type": "code",
     "collapsed": false,
     "input": [
      "C = np.array([[0, 0, 1], [0, 1, 0], [1, -1, -1]]).T\n",
      "np.dot(Z, C)"
     ],
     "language": "python",
     "metadata": {},
     "outputs": [
      {
       "output_type": "pyout",
<<<<<<< HEAD
       "prompt_number": 31,
=======
       "prompt_number": 52,
>>>>>>> 49456bd5b0b4623f1b0fa981a3b1e5c253e34b99
       "text": [
        "array([[ 1.,  0.,  0.],\n",
        "       [ 1.,  0.,  0.],\n",
        "       [ 1.,  0.,  0.],\n",
        "       [ 1.,  0.,  0.],\n",
        "       [ 1.,  0.,  0.],\n",
        "       [ 0.,  1.,  0.],\n",
        "       [ 0.,  1.,  0.],\n",
        "       [ 0.,  1.,  0.],\n",
        "       [ 0.,  1.,  0.],\n",
        "       [ 0.,  1.,  0.],\n",
        "       [ 0.,  0.,  1.],\n",
        "       [ 0.,  0.,  1.],\n",
        "       [ 0.,  0.,  1.],\n",
        "       [ 0.,  0.,  1.],\n",
        "       [ 0.,  0.,  1.]])"
       ]
      }
     ],
<<<<<<< HEAD
     "prompt_number": 31
=======
     "prompt_number": 52
>>>>>>> 49456bd5b0b4623f1b0fa981a3b1e5c253e34b99
    },
    {
     "cell_type": "markdown",
     "metadata": {},
     "source": [
      "Does the treatment contrast coding have exactly the same column space as the indicator columns?  That is, can all vectors that are a combination of the columns of `Z` also be created from combinations of columns of `X`?  Yes, because our matrix `C` above is invertible. If $C^{-1}$ is the inverse of `C`, then $Z = X C^{-1}$: "
     ]
    },
    {
     "cell_type": "code",
     "collapsed": false,
     "input": [
      "np.all(np.dot(X, np.linalg.inv(C)) == Z)"
     ],
     "language": "python",
     "metadata": {},
     "outputs": [
      {
       "output_type": "pyout",
<<<<<<< HEAD
       "prompt_number": 32,
=======
       "prompt_number": 53,
>>>>>>> 49456bd5b0b4623f1b0fa981a3b1e5c253e34b99
       "text": [
        "True"
       ]
      }
     ],
<<<<<<< HEAD
     "prompt_number": 32
=======
     "prompt_number": 53
>>>>>>> 49456bd5b0b4623f1b0fa981a3b1e5c253e34b99
    },
    {
     "cell_type": "markdown",
     "metadata": {},
     "source": [
      "Therefore all vectors in the space of `Z` are also in the column space of `X`."
     ]
    },
    {
     "cell_type": "markdown",
     "metadata": {},
     "source": [
      "As a side-note, I can get the matrix that maps from the 3 indicator columns to the 2 contrast columns like this:"
     ]
    },
    {
     "cell_type": "code",
     "collapsed": false,
     "input": [
      "X_indicator = %R model.matrix(~ nationality-1)\n",
      "X_contrast = %R model.matrix(~ nationality)\n",
      "C_map = %R contr.treatment(3) # Three levels for nationality\n",
      "np.all(np.dot(X_indicator, C_map) == X_contrast[:, 1:])                                "
     ],
     "language": "python",
     "metadata": {},
     "outputs": [
      {
       "output_type": "pyout",
<<<<<<< HEAD
       "prompt_number": 33,
=======
       "prompt_number": 54,
>>>>>>> 49456bd5b0b4623f1b0fa981a3b1e5c253e34b99
       "text": [
        "True"
       ]
      }
     ],
<<<<<<< HEAD
     "prompt_number": 33
=======
     "prompt_number": 54
>>>>>>> 49456bd5b0b4623f1b0fa981a3b1e5c253e34b99
    },
    {
     "cell_type": "markdown",
     "metadata": {},
     "source": [
      "It's easy to go from there to the full `C` matrix mapping from the indicator design to the intercept + contrast design:"
     ]
    },
    {
     "cell_type": "code",
     "collapsed": false,
     "input": [
      "C_map_with_inter = np.column_stack(([1, 1, 1], C_map))\n",
      "np.all(np.dot(X_indicator, C_map_with_inter) == X_contrast)"
     ],
     "language": "python",
     "metadata": {},
     "outputs": [
      {
       "output_type": "pyout",
<<<<<<< HEAD
       "prompt_number": 34,
=======
       "prompt_number": 55,
>>>>>>> 49456bd5b0b4623f1b0fa981a3b1e5c253e34b99
       "text": [
        "True"
       ]
      }
     ],
<<<<<<< HEAD
     "prompt_number": 34
=======
     "prompt_number": 55
>>>>>>> 49456bd5b0b4623f1b0fa981a3b1e5c253e34b99
    },
    {
     "cell_type": "markdown",
     "metadata": {},
     "source": [
      "How about the \"helmert\" coding? Does that contain the column space of the indicator coding?"
     ]
    },
    {
     "cell_type": "code",
     "collapsed": false,
     "input": [
      "Z = %R model.matrix( ~ C(nationality, helmert))\n",
      "C = np.array([[1./3, 0, 1./3], [1./3, 0.5, -1./6], [1./3, -0.5, -1./6]]).T\n",
      "np.set_printoptions(suppress=True) # suppress very small floating point values\n",
      "np.all(np.dot(X, np.linalg.inv(C)))"
     ],
     "language": "python",
     "metadata": {},
     "outputs": [
      {
       "output_type": "pyout",
<<<<<<< HEAD
       "prompt_number": 35,
=======
       "prompt_number": 56,
>>>>>>> 49456bd5b0b4623f1b0fa981a3b1e5c253e34b99
       "text": [
        "False"
       ]
      }
     ],
<<<<<<< HEAD
     "prompt_number": 35
=======
     "prompt_number": 56
>>>>>>> 49456bd5b0b4623f1b0fa981a3b1e5c253e34b99
    },
    {
     "cell_type": "markdown",
     "metadata": {},
     "source": [
      "In fact, if we tell R to leave out the constant column, we will get indicator coding for the factor, with the columns permuted to reflect the fact that R thinks the levels should be ordered \"France\", \"UK\", \"USA\":"
     ]
    },
    {
     "cell_type": "code",
     "collapsed": false,
     "input": [
      "%R model.matrix( ~ nationality-1)"
     ],
     "language": "python",
     "metadata": {},
     "outputs": [
      {
       "output_type": "pyout",
<<<<<<< HEAD
       "prompt_number": 36,
=======
       "prompt_number": 57,
>>>>>>> 49456bd5b0b4623f1b0fa981a3b1e5c253e34b99
       "text": [
        "array([[ 0.,  0.,  1.],\n",
        "       [ 0.,  0.,  1.],\n",
        "       [ 0.,  0.,  1.],\n",
        "       [ 0.,  0.,  1.],\n",
        "       [ 0.,  0.,  1.],\n",
        "       [ 0.,  1.,  0.],\n",
        "       [ 0.,  1.,  0.],\n",
        "       [ 0.,  1.,  0.],\n",
        "       [ 0.,  1.,  0.],\n",
        "       [ 0.,  1.,  0.],\n",
        "       [ 1.,  0.,  0.],\n",
        "       [ 1.,  0.,  0.],\n",
        "       [ 1.,  0.,  0.],\n",
        "       [ 1.,  0.,  0.],\n",
        "       [ 1.,  0.,  0.]])"
       ]
      }
     ],
<<<<<<< HEAD
     "prompt_number": 36
=======
     "prompt_number": 57
>>>>>>> 49456bd5b0b4623f1b0fa981a3b1e5c253e34b99
    },
    {
     "cell_type": "markdown",
     "metadata": {},
     "source": [
      "We now start to see the rules that R is using in constructing the design matrix.  It seems that R is looking at each effect to be added, and for each effect to be added, it is removing anything that can be modeled by columns already in the design matrix.  Later on, we'll make this rule more explicit."
     ]
    },
    {
     "cell_type": "heading",
     "level": 2,
     "metadata": {},
     "source": [
      "Factors, interactions and column spaces"
     ]
    },
    {
     "cell_type": "markdown",
     "metadata": {},
     "source": [
      "Let's define a new factor `awesome` which has levels of \"No\" (is not awesome) or \"Yes\" (is too awesome)."
     ]
    },
    {
     "cell_type": "code",
     "collapsed": false,
     "input": [
      "awesome = np.array([\"Yes\", \"No\"] * 7 + [\"Yes\"])\n",
      "awesome"
     ],
     "language": "python",
     "metadata": {},
     "outputs": [
      {
       "output_type": "pyout",
<<<<<<< HEAD
       "prompt_number": 37,
=======
       "prompt_number": 58,
>>>>>>> 49456bd5b0b4623f1b0fa981a3b1e5c253e34b99
       "text": [
        "array(['Yes', 'No', 'Yes', 'No', 'Yes', 'No', 'Yes', 'No', 'Yes', 'No',\n",
        "       'Yes', 'No', 'Yes', 'No', 'Yes'], \n",
        "      dtype='|S3')"
       ]
      }
     ],
<<<<<<< HEAD
     "prompt_number": 37
=======
     "prompt_number": 58
>>>>>>> 49456bd5b0b4623f1b0fa981a3b1e5c253e34b99
    },
    {
     "cell_type": "markdown",
     "metadata": {},
     "source": [
      "To model both these factors independently:"
     ]
    },
    {
     "cell_type": "code",
     "collapsed": false,
     "input": [
      "%%R -i awesome\n",
      "awesome = factor(awesome)\n",
      "print(model.matrix(~ nationality + awesome))"
     ],
     "language": "python",
     "metadata": {},
     "outputs": [
      {
       "output_type": "display_data",
       "text": [
        "   (Intercept) nationalityUK nationalityUSA awesomeYes\n",
        "1            1             0              1          1\n",
        "2            1             0              1          0\n",
        "3            1             0              1          1\n",
        "4            1             0              1          0\n",
        "5            1             0              1          1\n",
        "6            1             1              0          0\n",
        "7            1             1              0          1\n",
        "8            1             1              0          0\n",
        "9            1             1              0          1\n",
        "10           1             1              0          0\n",
        "11           1             0              0          1\n",
        "12           1             0              0          0\n",
        "13           1             0              0          1\n",
        "14           1             0              0          0\n",
        "15           1             0              0          1\n",
        "attr(,\"assign\")\n",
        "[1] 0 1 1 2\n",
        "attr(,\"contrasts\")\n",
        "attr(,\"contrasts\")$nationality\n",
        "[1] \"contr.treatment\"\n",
        "\n",
        "attr(,\"contrasts\")$awesome\n",
        "[1] \"contr.treatment\"\n",
        "\n"
       ]
      }
     ],
<<<<<<< HEAD
     "prompt_number": 38
=======
     "prompt_number": 59
>>>>>>> 49456bd5b0b4623f1b0fa981a3b1e5c253e34b99
    },
    {
     "cell_type": "markdown",
     "metadata": {},
     "source": [
      "Notice that both `nationality` and `awesome` have \"treatment\" contrast coding, and that for `awesome` this gives just one column corresponding to the difference between \"no treatment\" == first level after alphabetical sort == \"No\", and \"treatment\" == second level == \"Yes\"."
     ]
    },
    {
     "cell_type": "markdown",
     "metadata": {},
     "source": [
      "This allows us to model the effect of `nationality`, and the effect of `awesome`, but what if the effect of `awesome` is different depending on what nationality you are?  Maybe if you are from the \"UK\", you get cited all the time, even though you are not awesome.  If the effect of `awesome` differs across the levels of `nationality`, then there is said to be an \"interaction\" between `awesome` and `nationality`.\n",
      "\n",
      "In order to be able to model any such interaction, we can do the classic analysis of variance trick of breaking up the data into cells defined by every combination of `nationality` and `awesome`:\n",
      "\n",
      "$y_i \\approx \\alpha_{USA,Yes} \\text{ if } \\mathtt{nationality}_i \\text{ is } \\mathtt{USA} \\text{ and } \\mathtt{awesome}_i \\text{ is } \\mathtt{Yes}$\n",
      "\n",
      "$y_i \\approx \\alpha_{USA,No} \\text{ if } \\mathtt{nationality}_i \\text{ is } \\mathtt{USA} \\text{ and } \\mathtt{awesome}_i \\text{ is } \\mathtt{No}$\n",
      "\n",
      "$y_i \\approx \\alpha_{UK,Yes} \\text{ if } \\mathtt{nationality}_i \\text{ is } \\mathtt{UK} \\text{ and } \\mathtt{awesome}_i \\text{ is } \\mathtt{Yes}$\n",
      "\n",
      "$y_i \\approx \\alpha_{UK,No} \\text{ if } \\mathtt{nationality}_i \\text{ is } \\mathtt{UK} \\text{ and } \\mathtt{awesome}_i \\text{ is } \\mathtt{No}$\n",
      "\n",
      "$y_i \\approx \\alpha_{France,Yes} \\text{ if } \\mathtt{nationality}_i \\text{ is } \\mathtt{France} \\text{ and } \\mathtt{awesome}_i \\text{ is } \\mathtt{Yes}$\n",
      "\n",
      "$y_i \\approx \\alpha_{France,No} \\text{ if } \\mathtt{nationality}_i \\text{ is } \\mathtt{France} \\text{ and } \\mathtt{awesome}_i \\text{ is } \\mathtt{No}$\n",
      "\n",
      "The indicator coding for this is:"
     ]
    },
    {
     "cell_type": "code",
     "collapsed": false,
     "input": [
      "indicator_columns = []\n",
      "for country in 'USA', 'UK', 'France':\n",
      "    for quality in 'Yes', 'No':\n",
      "        indicator_columns.append((nationality == country) & (awesome == quality))\n",
      "X = np.column_stack(indicator_columns).astype(int)\n",
      "X"
     ],
     "language": "python",
     "metadata": {},
     "outputs": [
      {
       "output_type": "pyout",
<<<<<<< HEAD
       "prompt_number": 39,
=======
       "prompt_number": 60,
>>>>>>> 49456bd5b0b4623f1b0fa981a3b1e5c253e34b99
       "text": [
        "array([[1, 0, 0, 0, 0, 0],\n",
        "       [0, 1, 0, 0, 0, 0],\n",
        "       [1, 0, 0, 0, 0, 0],\n",
        "       [0, 1, 0, 0, 0, 0],\n",
        "       [1, 0, 0, 0, 0, 0],\n",
        "       [0, 0, 0, 1, 0, 0],\n",
        "       [0, 0, 1, 0, 0, 0],\n",
        "       [0, 0, 0, 1, 0, 0],\n",
        "       [0, 0, 1, 0, 0, 0],\n",
        "       [0, 0, 0, 1, 0, 0],\n",
        "       [0, 0, 0, 0, 1, 0],\n",
        "       [0, 0, 0, 0, 0, 1],\n",
        "       [0, 0, 0, 0, 1, 0],\n",
        "       [0, 0, 0, 0, 0, 1],\n",
        "       [0, 0, 0, 0, 1, 0]])"
       ]
      }
     ],
<<<<<<< HEAD
     "prompt_number": 39
=======
     "prompt_number": 60
>>>>>>> 49456bd5b0b4623f1b0fa981a3b1e5c253e34b99
    },
    {
     "cell_type": "markdown",
     "metadata": {},
     "source": [
      "This can be a little easier to grasp in an image of the design matrix.  Here black corresponds to 0 and white to 1:"
     ]
    },
    {
     "cell_type": "code",
     "collapsed": false,
     "input": [
      "show_x(X, 'Interaction of nationality and awesome')"
     ],
     "language": "python",
     "metadata": {},
     "outputs": [
      {
       "output_type": "display_data",
<<<<<<< HEAD
       "png": "iVBORw0KGgoAAAANSUhEUgAAAPoAAAEICAYAAAB2wembAAAABHNCSVQICAgIfAhkiAAAAAlwSFlz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\nm2eqBwE8uXgAAAAASUVORK5CYII=\n",
       "text": [
        "<matplotlib.figure.Figure at 0x107b1af90>"
       ]
      }
     ],
     "prompt_number": 40
=======
       "png": "iVBORw0KGgoAAAANSUhEUgAAAPoAAAEICAYAAAB2wembAAAABHNCSVQICAgIfAhkiAAAAAlwSFlz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\n"
      }
     ],
     "prompt_number": 61
>>>>>>> 49456bd5b0b4623f1b0fa981a3b1e5c253e34b99
    },
    {
     "cell_type": "markdown",
     "metadata": {},
     "source": [
      "These columns are also the element-wise products of the indicator columns for each pair of (`nationality`, `awesome`):"
     ]
    },
    {
     "cell_type": "code",
     "collapsed": false,
     "input": [
      "nat_cols = []\n",
      "for country in 'USA', 'UK', 'France':\n",
      "    nat_cols.append(nationality == country)\n",
      "awe_cols = []\n",
      "for quality in 'Yes', 'No':\n",
      "    awe_cols.append(awesome == quality)\n",
      "all_cols = []\n",
      "for nat_col in nat_cols:\n",
      "    for awe_col in awe_cols:\n",
      "        all_cols.append(nat_col * awe_col)\n",
      "X_again = np.column_stack(all_cols).astype(int)\n",
      "show_x(X_again, 'Interaction by product of indicator columns')"
     ],
     "language": "python",
     "metadata": {},
     "outputs": [
      {
       "output_type": "display_data",
<<<<<<< HEAD
       "png": "iVBORw0KGgoAAAANSUhEUgAAARIAAAEICAYAAACTenveAAAABHNCSVQICAgIfAhkiAAAAAlwSFlz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\nf/NjqQEPRsgYAAAAAElFTkSuQmCC\n",
       "text": [
        "<matplotlib.figure.Figure at 0x107b6b510>"
       ]
      }
     ],
     "prompt_number": 41
=======
       "png": "iVBORw0KGgoAAAANSUhEUgAAARIAAAEICAYAAACTenveAAAABHNCSVQICAgIfAhkiAAAAAlwSFlz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\nGYOEiJT9P84l8ityHCSwAAAAAElFTkSuQmCC\n"
      }
     ],
     "prompt_number": 62
>>>>>>> 49456bd5b0b4623f1b0fa981a3b1e5c253e34b99
    },
    {
     "cell_type": "markdown",
     "metadata": {},
     "source": [
      "R formulae represent an interaction with the colon `:`.  We can make R give us this same coding, if we ask for the interaction, and to have no intercept. The columns will be permuted because R orders the factor levels alphabetically."
     ]
    },
    {
     "cell_type": "code",
     "collapsed": false,
     "input": [
      "X_r = %R model.matrix(~ awesome:nationality-1)\n",
      "show_x(X_r, 'R interaction using indicator coding')"
     ],
     "language": "python",
     "metadata": {},
     "outputs": [
      {
       "output_type": "display_data",
<<<<<<< HEAD
       "png": "iVBORw0KGgoAAAANSUhEUgAAAOMAAAEICAYAAACtekO5AAAABHNCSVQICAgIfAhkiAAAAAlwSFlz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\nEini/wHG2H8faAzvSQAAAABJRU5ErkJggg==\n",
       "text": [
        "<matplotlib.figure.Figure at 0x107b28910>"
       ]
      }
     ],
     "prompt_number": 42
=======
       "png": "iVBORw0KGgoAAAANSUhEUgAAAOMAAAEICAYAAACtekO5AAAABHNCSVQICAgIfAhkiAAAAAlwSFlz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\n3s0ilQAAAABJRU5ErkJggg==\n"
      }
     ],
     "prompt_number": 69
>>>>>>> 49456bd5b0b4623f1b0fa981a3b1e5c253e34b99
    },
    {
     "cell_type": "markdown",
     "metadata": {},
     "source": [
      "Back to column spaces.  The first two columns of X add up to the indicator column for the first country. So, for R's design, the first two columns add up to the indicator coding for 'France'."
     ]
    },
    {
     "cell_type": "code",
     "collapsed": false,
     "input": [
      "X_nations = %R model.matrix(~ nationality-1)\n",
      "X_nations[:, 0] == X_r[:, 0] + X_r[:, 1]"
     ],
     "language": "python",
     "metadata": {},
     "outputs": [
      {
       "output_type": "pyout",
       "prompt_number": 43,
       "text": [
        "array([ True,  True,  True,  True,  True,  True,  True,  True,  True,\n",
        "        True,  True,  True,  True,  True,  True], dtype=bool)"
       ]
      }
     ],
     "prompt_number": 43
    },
    {
     "cell_type": "markdown",
     "metadata": {},
     "source": [
      "Similarly, the first, third and fifth columns add up to the indicator coding for \"No\":"
     ]
    },
    {
     "cell_type": "code",
     "collapsed": false,
     "input": [
      "X_awesome = %R model.matrix(~ awesome-1)\n",
      "X_awesome[:, 0] == np.sum(X_r[:, (0, 2, 4)], axis=1)"
     ],
     "language": "python",
     "metadata": {},
     "outputs": [
      {
       "output_type": "pyout",
       "prompt_number": 44,
       "text": [
        "array([ True,  True,  True,  True,  True,  True,  True,  True,  True,\n",
        "        True,  True,  True,  True,  True,  True], dtype=bool)"
       ]
      }
     ],
     "prompt_number": 44
    },
    {
     "cell_type": "markdown",
     "metadata": {},
     "source": [
      "So, the indicator coding for the interaction, contains the column space of the indicator coding for the individual factors.  Put another way, anything that can be fit with the model `nationality-1` and anything that can be fit by `awesome-1` can also be fit by the model `nationality:awesome-1`.  As we saw before, the column space of `nationality` is the same as the column space of `nationality-1`, as is also true of the pairs (`awesome`, `awesome-1`), (`nationality:awesome`, `nationality:awesome-1`), (`nationality + awesome`, `nationality + awsome-1`).  So, the model `nationality:awesome` contains the column space of `nationality + awesome`."
     ]
    },
    {
     "cell_type": "heading",
     "level": 2,
     "metadata": {},
     "source": [
      "The intercept, main effects and interaction effects"
     ]
    },
    {
     "cell_type": "markdown",
     "metadata": {},
     "source": [
      "Consider a simple model of our data `Y`, in which we have only an intercept (constant) term: $Y = \\mu$. In a model fit with ordinary least squares, $\\mu$ will be the mean of the observations `Y`.  Compare this to the model we have seen before in which each country has its own characteristic value:\n",
      "\n",
      "$\\begin{array}{cl}\n",
      "y_i \\approx \\alpha_{USA} & \\text{ if } \\mathtt{nationality}_i \\text{ is } \\mathtt{USA} \\cr\n",
      "y_i \\approx \\alpha_{UK} & \\text{ if } \\mathtt{nationality}_i \\text{ is } \\mathtt{UK} \\cr\n",
      "y_i \\approx \\alpha_{France} &\\text{ if } \\mathtt{nationality}_i \\text{ is } \\mathtt{France}\n",
      "\\end{array}$\n",
      "\n",
      "Again, for ordinary least squares, the values $\\alpha_{USA}, \\alpha_{UK}, \\alpha_{France}$ will be the respective means of the values `Y` for authors from countries \"USA\", \"UK\" and \"France\" respectively.\n",
      "\n",
      "The *main effect* of `nationality` is the difference between the intercept-only model $Y = \\mu$ and the second model with intercepts specific to each nationality.\n",
      "\n",
      "More generally, the main effect of a factor is the difference between a model that has a single intercept for all observations, compared to a model that has separate intercepts for each groups defined by the factor levels.\n",
      "\n",
      "Therefore, a main effect is a difference in a model caused by modeling the *differences* between the intercepts for the groups defined by the factor levels.\n",
      "\n",
      "We can see this distinction in the way that R constructs the design for a single factor.  We've seen this before of course:"
     ]
    },
    {
     "cell_type": "code",
     "collapsed": false,
     "input": [
      "%%R\n",
      "fit_with_intercept = lm(Y ~ nationality)\n",
      "print(model.matrix(fit_with_intercept))"
     ],
     "language": "python",
     "metadata": {},
     "outputs": [
      {
       "output_type": "display_data",
       "text": [
        "   (Intercept) nationalityUK nationalityUSA\n",
        "1            1             0              1\n",
        "2            1             0              1\n",
        "3            1             0              1\n",
        "4            1             0              1\n",
        "5            1             0              1\n",
        "6            1             1              0\n",
        "7            1             1              0\n",
        "8            1             1              0\n",
        "9            1             1              0\n",
        "10           1             1              0\n",
        "11           1             0              0\n",
        "12           1             0              0\n",
        "13           1             0              0\n",
        "14           1             0              0\n",
        "15           1             0              0\n",
        "attr(,\"assign\")\n",
        "[1] 0 1 1\n",
        "attr(,\"contrasts\")\n",
        "attr(,\"contrasts\")$nationality\n",
        "[1] \"contr.treatment\"\n",
        "\n"
       ]
      }
     ],
     "prompt_number": 45
    },
    {
     "cell_type": "markdown",
     "metadata": {},
     "source": [
      "So, the model starts with the intercept, and continues with two columns that complete the column spaces spanned by the model with the indidual intercepts.   That is, the design can be considered as two designs one after the other, the intercept-only design (a column of ones) and the remaining column space of the indicator columns for the three intercept model.  Let's now look at the summary of the fit:"
     ]
    },
    {
     "cell_type": "code",
     "collapsed": false,
     "input": [
      "%R print(summary(fit_with_intercept))"
     ],
     "language": "python",
     "metadata": {},
     "outputs": [
      {
       "output_type": "display_data",
       "text": [
        "\n",
        "Call:\n",
        "lm(formula = Y ~ nationality)\n",
        "\n",
        "Residuals:\n",
        "    Min      1Q  Median      3Q     Max \n",
        "-29.868 -24.776   8.044  19.093  45.064 \n",
        "\n",
        "Coefficients:\n",
        "               Estimate Std. Error t value Pr(>|t|)    \n",
        "(Intercept)     119.028     12.008   9.912 3.94e-07 ***\n",
        "nationalityUK    27.688     16.982   1.630    0.129    \n",
        "nationalityUSA    4.958     16.982   0.292    0.775    \n",
        "---\n",
        "Signif. codes:  0 \u2018***\u2019 0.001 \u2018**\u2019 0.01 \u2018*\u2019 0.05 \u2018.\u2019 0.1 \u2018 \u2019 1 \n",
        "\n",
        "Residual standard error: 26.85 on 12 degrees of freedom\n",
        "Multiple R-squared: 0.2012,\tAdjusted R-squared: 0.06812 \n",
        "F-statistic: 1.512 on 2 and 12 DF,  p-value: 0.2597 \n",
        "\n"
       ]
      }
     ],
     "prompt_number": 46
    },
    {
     "cell_type": "markdown",
     "metadata": {},
     "source": [
      "We have coefficients for `nationalityUK` and `nationalityUSA` with associated t statistics and p values.   These are meaningful as tests for differences between the group means for nationality, because the overall intercept has been modeled separately. The coefficients and the tests on the coefficients relate to the main effect of nationality. However, if we remove the intercept from the model:"
     ]
    },
    {
     "cell_type": "code",
     "collapsed": false,
     "input": [
      "%%R\n",
      "fit_no_intercept = lm(Y ~ nationality -1)\n",
      "print(summary(fit_no_intercept))"
     ],
     "language": "python",
     "metadata": {},
     "outputs": [
      {
       "output_type": "display_data",
       "text": [
        "\n",
        "Call:\n",
        "lm(formula = Y ~ nationality - 1)\n",
        "\n",
        "Residuals:\n",
        "    Min      1Q  Median      3Q     Max \n",
        "-29.868 -24.776   8.044  19.093  45.064 \n",
        "\n",
        "Coefficients:\n",
        "                  Estimate Std. Error t value Pr(>|t|)    \n",
        "nationalityFrance   119.03      12.01   9.912 3.94e-07 ***\n",
        "nationalityUK       146.72      12.01  12.218 3.96e-08 ***\n",
        "nationalityUSA      123.99      12.01  10.325 2.53e-07 ***\n",
        "---\n",
        "Signif. codes:  0 \u2018***\u2019 0.001 \u2018**\u2019 0.01 \u2018*\u2019 0.05 \u2018.\u2019 0.1 \u2018 \u2019 1 \n",
        "\n",
        "Residual standard error: 26.85 on 12 degrees of freedom\n",
        "Multiple R-squared: 0.9672,\tAdjusted R-squared: 0.959 \n",
        "F-statistic:   118 on 3 and 12 DF,  p-value: 3.583e-09 \n",
        "\n"
       ]
      }
     ],
     "prompt_number": 47
    },
    {
     "cell_type": "markdown",
     "metadata": {},
     "source": [
      "Now group means for each nationality must model the overall mean across all nationalities, and the values of the coefficients therefore no longer reflect the difference between the intercept-only model and the the model with separate intercepts for each group that we fit here.\n",
      "\n",
      "By adding the intercept to the model by default, R makes the default coefficients relate to the expected test of interest, which is for the main effect of the factor.  The main effect of the factor is the comparison between the intercept only model and the model with the factor level intercepts.\n",
      "\n",
      "We remember that the design matrix for the intercept (`model.matrix(fit_with_intercept)`) and the design matrix without the intercept (`model.matrix(fit_no_intercept)`) have the same *column space*.  It is the column space that determines what the design is able to fit in the data, so we see that the two models have the same `Residual standard error` in the summaries above, and:"
     ]
    },
    {
     "cell_type": "code",
     "collapsed": false,
     "input": [
      "%R sum(abs(fit_no_intercept$residuals - fit_with_intercept$residuals))"
     ],
     "language": "python",
     "metadata": {},
     "outputs": [
      {
       "output_type": "pyout",
       "prompt_number": 48,
       "text": [
        "array([ 0.])"
       ]
      }
     ],
     "prompt_number": 48
    },
    {
     "cell_type": "markdown",
     "metadata": {},
     "source": [
      "Now we know why R might prefer to insert the intercept for single factor models, we may be some way to explaining the following mystery:\n",
      "\n",
      "The most typical two factor and interaction formula in R looks (in effect) like this:\n",
      "\n",
      "`Y ~ nationality + awesome + nationality:awesome`\n",
      "\n",
      "(I say, \"in effect\", because that formula is usually written with the shortcut form of `Y ~ nationality * awesome`; more on the shortcuts later).\n",
      "\n",
      "The mystery is this: we know that:\n",
      "\n",
      "`Y ~ nationality:awesome`\n",
      "\n",
      "covers the same column space.  Why prefer the more verbose form (or - with the shortcut - the slightly more obscure form)?\n",
      "\n",
      "The answer is the same as for the inclusion of intercept in the single-factor design; it makes it easier to interpret the parts of the design matrix in an hierarchical way.  For the intercept and the single factor, including the intercept made the columns of the design refer to the main effect (comparison between the intercept model and factor level intercept model).  Including the main effects separately from the interactions in the formula means that the first colums in the design refer to the main effect, and the later columns refer to the *added* effect of the interaction.\n",
      "\n",
      "Let's have a look at the standard R form of this model with main effects and interactions:"
     ]
    },
    {
     "cell_type": "code",
     "collapsed": false,
     "input": [
      "%R fit_main_inters = lm(Y ~ nationality + awesome + nationality:awesome)\n",
      "X_main_inters = %R model.matrix(fit_main_inters)\n",
      "print X_main_inters"
     ],
     "language": "python",
     "metadata": {},
     "outputs": [
      {
       "output_type": "stream",
       "stream": "stdout",
       "text": [
        "[[ 1.  0.  1.  1.  0.  1.]\n",
        " [ 1.  0.  1.  0.  0.  0.]\n",
        " [ 1.  0.  1.  1.  0.  1.]\n",
        " [ 1.  0.  1.  0.  0.  0.]\n",
        " [ 1.  0.  1.  1.  0.  1.]\n",
        " [ 1.  1.  0.  0.  0.  0.]\n",
        " [ 1.  1.  0.  1.  1.  0.]\n",
        " [ 1.  1.  0.  0.  0.  0.]\n",
        " [ 1.  1.  0.  1.  1.  0.]\n",
        " [ 1.  1.  0.  0.  0.  0.]\n",
        " [ 1.  0.  0.  1.  0.  0.]\n",
        " [ 1.  0.  0.  0.  0.  0.]\n",
        " [ 1.  0.  0.  1.  0.  0.]\n",
        " [ 1.  0.  0.  0.  0.  0.]\n",
        " [ 1.  0.  0.  1.  0.  0.]]\n"
       ]
      }
     ],
     "prompt_number": 49
    },
    {
     "cell_type": "markdown",
     "metadata": {},
     "source": [
      "You'll recognize the first three columns as being the same as those for `~ nationality`.  The fourth column is the contrast coding for `awesome`, and is what we expected.  The last two columns encode the (remainder of) the interaction.  What are these last two columns?  Let's get the names:"
     ]
    },
    {
     "cell_type": "code",
     "collapsed": false,
     "input": [
      "names = %R colnames(model.matrix(fit_main_inters))\n",
      "for i, name in enumerate(names):\n",
      "    print i, name"
     ],
     "language": "python",
     "metadata": {},
     "outputs": [
      {
       "output_type": "stream",
       "stream": "stdout",
       "text": [
        "0 (Intercept)\n",
        "1 nationalityUK\n",
        "2 nationalityUSA\n",
        "3 awesomeYes\n",
        "4 nationalityUK:awesomeYes\n",
        "5 nationalityUSA:awesomeYes\n"
       ]
      }
     ],
     "prompt_number": 50
    },
    {
     "cell_type": "markdown",
     "metadata": {},
     "source": [
      "And in fact:"
     ]
    },
    {
     "cell_type": "code",
     "collapsed": false,
     "input": [
      "print np.all(X_main_inters[:, 4] == X_main_inters[:, 1] * X_main_inters[:, 3])\n",
      "print np.all(X_main_inters[:, 5] == X_main_inters[:, 2] * X_main_inters[:, 3])"
     ],
     "language": "python",
     "metadata": {},
     "outputs": [
      {
       "output_type": "stream",
       "stream": "stdout",
       "text": [
        "True\n",
        "True\n"
       ]
      }
     ],
     "prompt_number": 51
    },
    {
     "cell_type": "markdown",
     "metadata": {},
     "source": [
      "The fit:"
     ]
    },
    {
     "cell_type": "code",
     "collapsed": false,
     "input": [
      "%R print(summary(fit_main_inters))"
     ],
     "language": "python",
     "metadata": {},
     "outputs": [
      {
       "output_type": "display_data",
       "text": [
        "\n",
        "Call:\n",
        "lm(formula = Y ~ nationality + awesome + nationality:awesome)\n",
        "\n",
        "Residuals:\n",
        "    Min      1Q  Median      3Q     Max \n",
        "-23.280  -5.804  -0.070   4.550  45.990 \n",
        "\n",
        "Coefficients:\n",
        "                          Estimate Std. Error t value Pr(>|t|)    \n",
        "(Intercept)                 89.230     13.907   6.416 0.000123 ***\n",
        "nationalityUK               56.560     17.954   3.150 0.011732 *  \n",
        "nationalityUSA               9.040     19.667   0.460 0.656674    \n",
        "awesomeYes                  49.663     17.954   2.766 0.021890 *  \n",
        "nationalityUK:awesomeYes   -47.348     25.391  -1.865 0.095084 .  \n",
        "nationalityUSA:awesomeYes   -6.803     25.391  -0.268 0.794780    \n",
        "---\n",
        "Signif. codes:  0 \u2018***\u2019 0.001 \u2018**\u2019 0.01 \u2018*\u2019 0.05 \u2018.\u2019 0.1 \u2018 \u2019 1 \n",
        "\n",
        "Residual standard error: 19.67 on 9 degrees of freedom\n",
        "Multiple R-squared: 0.6786,\tAdjusted R-squared:   0.5 \n",
        "F-statistic:   3.8 on 5 and 9 DF,  p-value: 0.03967 \n",
        "\n"
       ]
      }
     ],
     "prompt_number": 52
    },
    {
     "cell_type": "markdown",
     "metadata": {},
     "source": [
      "We see the same principle as before; the later columns can be interpreted as tests of the extra effects over and above the earlier columns.  Specifically, the design matrix here has 0-order effects first (the intercept), followed by first-order (nationality, awesome - over and above the zero order effect), followed by the second order effects (nationality interaction with awesome over and above the first order effects).\n",
      "\n",
      "Compare the interaction-only model, that has the same column space.  For clarity, let's omit the intercept to get indicator coding for the factor level pairs:"
     ]
    },
    {
     "cell_type": "code",
     "collapsed": false,
     "input": [
      "%R fit_inters = lm(Y ~ nationality:awesome-1)\n",
      "X_inters = %R model.matrix(fit_inters)\n",
      "print X_inters"
     ],
     "language": "python",
     "metadata": {},
     "outputs": [
      {
       "output_type": "stream",
       "stream": "stdout",
       "text": [
        "[[ 0.  0.  0.  0.  0.  1.]\n",
        " [ 0.  0.  1.  0.  0.  0.]\n",
        " [ 0.  0.  0.  0.  0.  1.]\n",
        " [ 0.  0.  1.  0.  0.  0.]\n",
        " [ 0.  0.  0.  0.  0.  1.]\n",
        " [ 0.  1.  0.  0.  0.  0.]\n",
        " [ 0.  0.  0.  0.  1.  0.]\n",
        " [ 0.  1.  0.  0.  0.  0.]\n",
        " [ 0.  0.  0.  0.  1.  0.]\n",
        " [ 0.  1.  0.  0.  0.  0.]\n",
        " [ 0.  0.  0.  1.  0.  0.]\n",
        " [ 1.  0.  0.  0.  0.  0.]\n",
        " [ 0.  0.  0.  1.  0.  0.]\n",
        " [ 1.  0.  0.  0.  0.  0.]\n",
        " [ 0.  0.  0.  1.  0.  0.]]\n"
       ]
      }
     ],
     "prompt_number": 53
    },
    {
     "cell_type": "markdown",
     "metadata": {},
     "source": [
      "Do `X_inter` and `X_main_inters` have the same column space as I have claimed?  We see first that they have the same `Residual standard error`:"
     ]
    },
    {
     "cell_type": "code",
     "collapsed": false,
     "input": [
      "%R print(summary(fit_inters))"
     ],
     "language": "python",
     "metadata": {},
     "outputs": [
      {
       "output_type": "display_data",
       "text": [
        "\n",
        "Call:\n",
        "lm(formula = Y ~ nationality:awesome - 1)\n",
        "\n",
        "Residuals:\n",
        "    Min      1Q  Median      3Q     Max \n",
        "-23.280  -5.804  -0.070   4.550  45.990 \n",
        "\n",
        "Coefficients:\n",
        "                             Estimate Std. Error t value Pr(>|t|)    \n",
        "nationalityFrance:awesomeNo     89.23      13.91   6.416 0.000123 ***\n",
        "nationalityUK:awesomeNo        145.79      11.36  12.839 4.32e-07 ***\n",
        "nationalityUSA:awesomeNo        98.27      13.91   7.066 5.88e-05 ***\n",
        "nationalityFrance:awesomeYes   138.89      11.36  12.232 6.54e-07 ***\n",
        "nationalityUK:awesomeYes       148.10      13.91  10.650 2.11e-06 ***\n",
        "nationalityUSA:awesomeYes      141.13      11.36  12.429 5.71e-07 ***\n",
        "---\n",
        "Signif. codes:  0 \u2018***\u2019 0.001 \u2018**\u2019 0.01 \u2018*\u2019 0.05 \u2018.\u2019 0.1 \u2018 \u2019 1 \n",
        "\n",
        "Residual standard error: 19.67 on 9 degrees of freedom\n",
        "Multiple R-squared: 0.9868,\tAdjusted R-squared: 0.978 \n",
        "F-statistic: 112.2 on 6 and 9 DF,  p-value: 6.075e-08 \n",
        "\n"
       ]
      }
     ],
     "prompt_number": 54
    },
    {
     "cell_type": "markdown",
     "metadata": {},
     "source": [
      "Is there a matrix `C` such that `X_main_inters = np.dot(X_inters, C)`?  Yes:"
     ]
    },
    {
     "cell_type": "code",
     "collapsed": false,
     "input": [
      "C = np.dot(np.linalg.pinv(X_inters), X_main_inters)\n",
      "np.allclose(np.dot(X_inters, C), X_main_inters)"
     ],
     "language": "python",
     "metadata": {},
     "outputs": [
      {
       "output_type": "pyout",
       "prompt_number": 55,
       "text": [
        "True"
       ]
      }
     ],
     "prompt_number": 55
    },
    {
     "cell_type": "markdown",
     "metadata": {},
     "source": [
      "From the fit above, we see that the individual coefficients in the `fit_inters` fit carry the effect of the (otherwise unnodeled) global intercept, and in fact they also carry the main effects.  That makes sense because the intercept and main effect and interaction are all modeled with the same set of columns."
     ]
    },
    {
     "cell_type": "heading",
     "level": 2,
     "metadata": {},
     "source": [
      "Column space and contrast matrices"
     ]
    },
    {
     "cell_type": "markdown",
     "metadata": {},
     "source": [
      "If two design matrices have the same column space, then any comparison possible for the first model is also possible for the second, with suitable *contrast matrices*.  Consider the designs above for the `nationality` factor, with and without the intercept.\n",
      "\n",
      "Remember that the design with the intercept gave us coefficients reflecting the *treatment contrast* for the factor main effect. But, the design without the intercept has the same column space.  What if have coefficients for the no-intercept design matrix, but I want the coefficients I would ahve got for the with-intercept design?\n",
      "\n",
      "Call our design matrix with intercept $X_W$, and the design matrix without the intercept $X_N$.   The fitted values $\\hat{Y}$ for any design $X$ are given by:\n",
      "\n",
      "$\\hat{Y} = X B$\n",
      "\n",
      "where $B$ is the column vector of coefficients from the fit (for example: `coef(fit_no_intercept))`).   So for the no-intercept design:\n",
      "\n",
      "$\\hat{Y} = X_N B_N$\n",
      "\n",
      "I postulate there are a vector of parameters $B_W$ for the with-intercept desing that give me exactly the same fitted values, so:\n",
      "\n",
      "$\n",
      "\\hat{Y} = X_W B_W \\implies\n",
      "X_W B_W = X_N B_N\n",
      "$\n",
      "\n",
      "We want to know what $B_W$ are given $B_N$.\n",
      "\n",
      "Because the intercept design $X_W$ spans the column space of $X_N$, we know that there is some matrix $C$ such that $X_N = X_W C$.  Therefore:\n",
      "\n",
      "$X_W B_W = X_W C B_N$\n",
      "\n",
      "This will be true if:\n",
      "\n",
      "$B_W = C B_N$\n",
      "\n",
      "So, we need the matrix $C$ mapping the columns of $X_W$ to the columns of $X_N$.  $C$ is our contrast matrix.\n"
     ]
    },
    {
     "cell_type": "markdown",
     "metadata": {},
     "source": [
      "R will give us the matrix to construct the contrast columns from the indicator columns; this maps the columns of $X_W$ to the columns of $X_N$."
     ]
    },
    {
     "cell_type": "code",
     "collapsed": false,
     "input": [
      "C_ind2treat = %R contr.treatment(3) # 3 factor levels for nationality\n",
      "C_N2W = np.column_stack(([1, 1, 1], C_ind2treat)) # Add intercept generating column\n",
      "X_N = %R model.matrix(fit_no_intercept)\n",
      "X_W = %R model.matrix(fit_with_intercept)\n",
      "print np.all(np.dot(X_N, C_N2W) == X_W) # Confirm we have C' to map X_N to X_W"
     ],
     "language": "python",
     "metadata": {},
     "outputs": [
      {
       "output_type": "stream",
       "stream": "stdout",
       "text": [
        "True\n"
       ]
      }
     ],
     "prompt_number": 56
    },
    {
     "cell_type": "markdown",
     "metadata": {},
     "source": [
      "We have the mapping from `X_N` to `X_W`, but we want $C$ to map `X_W` to `X_N`.  Call this `C_W2N`. Luckily `C_N2W` is invertible, and we have our `C_W2N` with one bound:"
     ]
    },
    {
     "cell_type": "code",
     "collapsed": false,
     "input": [
      "C_W2N = np.linalg.inv(C_N2W) # The C we want\n",
      "print np.all(np.dot(X_W, C_W2N) == X_N) # confirm it's the C we want"
     ],
     "language": "python",
     "metadata": {},
     "outputs": [
      {
       "output_type": "stream",
       "stream": "stdout",
       "text": [
        "True\n"
       ]
      }
     ],
     "prompt_number": 57
    },
    {
     "cell_type": "markdown",
     "metadata": {},
     "source": [
      "Now we can get the $B_N$ cooefficients from the $B_W$ coefficients without reestimating the design:"
     ]
    },
    {
     "cell_type": "code",
     "collapsed": false,
     "input": [
      "B_N = %R coef(fit_no_intercept) # No intercept coefficients\n",
      "B_N = B_N.reshape(-1, 1) # Make into a column vector for dot product\n",
      "B_I_est = np.dot(C_W2N, B_N) # Estimate coefficients for with-intercept model\n",
      "B_I = %R coef(fit_with_intercept)\n",
      "print \"Coefficients from intercept model\", B_I\n",
      "print \"Coefficients recreated from non-intercept model\", B_I_est.T"
     ],
     "language": "python",
     "metadata": {},
     "outputs": [
      {
       "output_type": "stream",
       "stream": "stdout",
       "text": [
        "Coefficients from intercept model [ 119.028   27.688    4.958]\n",
        "Coefficients recreated from non-intercept model [[ 119.028   27.688    4.958]]\n"
       ]
      }
     ],
     "prompt_number": 58
    },
    {
     "cell_type": "heading",
     "level": 2,
     "metadata": {},
     "source": [
      "Formulae and ANOVA tables"
     ]
    },
    {
     "cell_type": "markdown",
     "metadata": {},
     "source": [
      "We've seen that R uses the formula to do some partitioning of the design matrix.  We've seen for example that `~ nationality + awesome + nationality:awesome` has the the same column space as `~ nationality:awesome` but that the coefficients are different, because, in the first case, R partitions the design into (first) main effects, then interactions.\n",
      "\n",
      "R uses the order of elements in the formula for even more explicit partioning when doing ANOVA tables."
     ]
    },
    {
     "cell_type": "code",
     "collapsed": false,
     "input": [
      "%%R\n",
      "fit_sequential = lm(Y ~ nationality + awesome + nationality:awesome)\n",
      "print(anova(fit_sequential))"
     ],
     "language": "python",
     "metadata": {},
     "outputs": [
      {
       "output_type": "display_data",
       "text": [
        "Analysis of Variance Table\n",
        "\n",
        "Response: Y\n",
<<<<<<< HEAD
        "                    Df Sum Sq Mean Sq F value Pr(>F)  \n",
        "nationality          2 2179.8  1089.9  2.8176 0.1121  \n",
        "awesome              1 3597.7  3597.7  9.3010 0.0138 *\n",
        "nationality:awesome  2 1572.8   786.4  2.0331 0.1868  \n",
        "Residuals            9 3481.3   386.8                 \n",
=======
        "                    Df Sum Sq Mean Sq F value  Pr(>F)  \n",
        "nationality          2 2179.8  1089.9  2.8176 0.11215  \n",
        "awesome              1 3597.7  3597.7  9.3010 0.01380 *\n",
        "nationality:awesome  2 1572.8   786.4  2.0331 0.18682  \n",
        "Residuals            9 3481.3   386.8                  \n",
>>>>>>> 49456bd5b0b4623f1b0fa981a3b1e5c253e34b99
        "---\n",
        "Signif. codes:  0 \u2018***\u2019 0.001 \u2018**\u2019 0.01 \u2018*\u2019 0.05 \u2018.\u2019 0.1 \u2018 \u2019 1 \n"
       ]
      }
     ],
     "prompt_number": 59
    },
    {
     "cell_type": "markdown",
     "metadata": {},
     "source": [
      "The ANOVA table reports sequential tests as each element enters the formula.  The first line in the table compares the model `~ 1` (intercept only) to `~ 1 + nationality`.   The second line compares `~ 1 + nationality` to `~1 + nationality + awesome`.  The third line compares `~1 + nationality + awesome` to `~ 1 + nationality + awesome + nationality:awesome`.   By \"compares the model\" I mean, do an F test where the numerator is (extra sum of squares error explained by the second (larger) model compared to the first (smaller) model, divided by the extra degrees of freedom used by second compared to the first model).  The denominator is the (sum of squared residuals from `~ 1 + nationality + awesome + nationality:awesome` model divided by the degrees of freedom used by this model).  For example, to get the first F value in the table we take the sum of squares explained by the `~ 1 + nationality` model (below) (2176.8), divide by the degrees of freedom (2), then divide by (the residual sum of squares for the full model (above) (3481.3), divided by the degrees of freedom for the full model (9)):"
     ]
    },
    {
     "cell_type": "code",
     "collapsed": false,
     "input": [
      "%R print(anova(lm(Y ~ nationality)))\n",
      "(2179.8 / 2) / (3481.3 / 9)"
     ],
     "language": "python",
     "metadata": {},
     "outputs": [
      {
       "output_type": "display_data",
       "text": [
        "Analysis of Variance Table\n",
        "\n",
        "Response: Y\n",
        "            Df Sum Sq Mean Sq F value Pr(>F)\n",
        "nationality  2 2179.8 1089.88  1.5117 0.2597\n",
        "Residuals   12 8651.8  720.99               \n"
       ]
      },
      {
       "output_type": "pyout",
       "prompt_number": 60,
       "text": [
        "2.8176543245339385"
       ]
      }
     ],
     "prompt_number": 60
    },
    {
     "cell_type": "markdown",
     "metadata": {},
     "source": [
      "This sequential form of testing is sometimes called *type I sum of squares*.  \n",
      "\n",
      "The order is strictly sequential, so it makes a difference which order you enter the factors in the formula.  For example, compare:"
     ]
    },
    {
     "cell_type": "code",
     "collapsed": false,
     "input": [
      "%%R\n",
      "print(anova(lm(Y ~ nationality + awesome)))\n",
      "print(anova(lm(Y ~ awesome + nationality)))\n"
     ],
     "language": "python",
     "metadata": {},
     "outputs": [
      {
       "output_type": "display_data",
       "text": [
        "Analysis of Variance Table\n",
        "\n",
        "Response: Y\n",
        "            Df Sum Sq Mean Sq F value  Pr(>F)  \n",
        "nationality  2 2179.8  1089.9  2.3721 0.13916  \n",
        "awesome      1 3597.7  3597.7  7.8303 0.01733 *\n",
        "Residuals   11 5054.1   459.5                  \n",
        "---\n",
        "Signif. codes:  0 \u2018***\u2019 0.001 \u2018**\u2019 0.01 \u2018*\u2019 0.05 \u2018.\u2019 0.1 \u2018 \u2019 1 \n",
        "Analysis of Variance Table\n",
        "\n",
        "Response: Y\n",
        "            Df Sum Sq Mean Sq F value  Pr(>F)  \n",
        "awesome      1 2520.3 2520.27  5.4852 0.03903 *\n",
        "nationality  2 3257.2 1628.61  3.5446 0.06484 .\n",
        "Residuals   11 5054.1  459.46                  \n",
        "---\n",
        "Signif. codes:  0 \u2018***\u2019 0.001 \u2018**\u2019 0.01 \u2018*\u2019 0.05 \u2018.\u2019 0.1 \u2018 \u2019 1 \n"
       ]
      }
     ],
<<<<<<< HEAD
     "prompt_number": 61
=======
     "prompt_number": 62
>>>>>>> 49456bd5b0b4623f1b0fa981a3b1e5c253e34b99
    },
    {
     "cell_type": "markdown",
     "metadata": {},
     "source": [
      "For more detail, see the R FAQ section \"Why does the output from anova() depend on the order of factors in the model?\""
     ]
    },
    {
     "cell_type": "markdown",
     "metadata": {},
     "source": [
      "Needless to say, entering the interaction-only formula changes the table too:"
     ]
    },
    {
     "cell_type": "code",
     "collapsed": false,
     "input": [
      "%R print(anova(lm(Y ~ nationality:awesome)))"
     ],
     "language": "python",
     "metadata": {},
     "outputs": [
      {
       "output_type": "display_data",
       "text": [
        "Analysis of Variance Table\n",
        "\n",
        "Response: Y\n",
        "                    Df Sum Sq Mean Sq F value  Pr(>F)  \n",
        "nationality:awesome  5 7350.3 1470.06  3.8005 0.03967 *\n",
        "Residuals            9 3481.3  386.81                  \n",
        "---\n",
        "Signif. codes:  0 \u2018***\u2019 0.001 \u2018**\u2019 0.01 \u2018*\u2019 0.05 \u2018.\u2019 0.1 \u2018 \u2019 1 \n"
       ]
      }
     ],
<<<<<<< HEAD
     "prompt_number": 62
=======
     "prompt_number": 63
>>>>>>> 49456bd5b0b4623f1b0fa981a3b1e5c253e34b99
    },
    {
     "cell_type": "heading",
     "level": 2,
     "metadata": {},
     "source": [
      "From R formula to design matrix"
     ]
    },
    {
     "cell_type": "markdown",
     "metadata": {},
     "source": [
      "These is an attempt to set out the rules, as I understand them, for going from an R formula to a a design matrix.  There are three stages:\n",
      "\n",
      "1. Expanding shortcuts to create terms\n",
      "2. Reordering terms\n",
      "3. Coding of factors in terms\n",
      "\n",
      "In what follows, I will use the name *element* for a factor (such as `nationality`) or a numerical numerical variable (such as `x1`).  A *term* is either the intercept (`1`) or an element (such as `nationality`, or an interaction between two or more elements (e.g. `x1:nationality:awesome`). The order of a term is the number of contained elements.  `1` is a term with zero elements. Examples of terms with their orders are:\n",
      "\n",
      "* `1` - order 0\n",
      "* `nationality` - order 1\n",
      "* `nationality:x1` - order 2\n",
      "* `x1:x2:awesome` - order 3"
     ]
    },
    {
     "cell_type": "heading",
     "level": 3,
     "metadata": {},
     "source": [
      "Expanding model shortcuts"
     ]
    },
    {
     "cell_type": "markdown",
     "metadata": {},
     "source": [
      "There are 4 syntactic shortcuts.  Here is a list, with their translations to the basic operators of \"+\" and \":\".  In the *expansion* phase, R translates the shortcuts to their meaning given here:\n",
      "\n",
      "* `A * B`  $\\implies$ `A + B + A:B`\n",
<<<<<<< HEAD
      "   * `A * B * C`  $\\implies$ `A + B + C + A:B + A:C + B:C + A:B:C` \n",
=======
>>>>>>> 49456bd5b0b4623f1b0fa981a3b1e5c253e34b99
      "* `A %in% B` $\\implies$ `A:B`\n",
      "* `A / B` $\\implies$ `A + A:B`\n",
      "* `A + B - A` $\\implies$ `B`\n",
      "   * `A + B + A:B - B` $\\implies$ `A + A:B`\n",
      "* `(A + B + C)^2` $\\implies$ `A + B + C + A:B + A:C`\n",
      "   * `(A + B + C)^3` $\\implies$ `A + B + C + A:B + A:C + B:C + A:B:C`\n",
      "\n",
      "Let's see them in action by looking at the \"terms\" created from formulae in R:"
     ]
    },
    {
     "cell_type": "code",
     "collapsed": false,
     "input": [
      "%%R\n",
      "print(attributes(terms(~A * B))$term)\n",
<<<<<<< HEAD
      "print(attributes(terms(~A * B * C))$term)\n",
=======
>>>>>>> 49456bd5b0b4623f1b0fa981a3b1e5c253e34b99
      "print(attributes(terms(~A %in% B))$term)\n",
      "print(attributes(terms(~A / B))$term)\n",
      "print(attributes(terms(~A + B - A))$term)\n",
      "print(attributes(terms(~A + B + A:B - B))$term)\n",
      "print(attributes(terms(~(A + B + C)^2))$term)\n",
      "print(attributes(terms(~(A + B + C)^3))$term)"
     ],
     "language": "python",
     "metadata": {},
     "outputs": [
      {
       "output_type": "display_data",
       "text": [
        "[1] \"A\"   \"B\"   \"A:B\"\n",
<<<<<<< HEAD
        "[1] \"A\"     \"B\"     \"C\"     \"A:B\"   \"A:C\"   \"B:C\"   \"A:B:C\"\n",
=======
>>>>>>> 49456bd5b0b4623f1b0fa981a3b1e5c253e34b99
        "[1] \"A:B\"\n",
        "[1] \"A\"   \"A:B\"\n",
        "[1] \"B\"\n",
        "[1] \"A\"   \"A:B\"\n",
        "[1] \"A\"   \"B\"   \"C\"   \"A:B\" \"A:C\" \"B:C\"\n",
        "[1] \"A\"     \"B\"     \"C\"     \"A:B\"   \"A:C\"   \"B:C\"   \"A:B:C\"\n"
       ]
      }
     ],
<<<<<<< HEAD
     "prompt_number": 63
=======
     "prompt_number": 64
>>>>>>> 49456bd5b0b4623f1b0fa981a3b1e5c253e34b99
    },
    {
     "cell_type": "heading",
     "level": 3,
     "metadata": {},
     "source": [
      "Reordering terms"
     ]
    },
    {
     "cell_type": "markdown",
     "metadata": {},
     "source": [
      "Terms are ordered so that 0 order terms go first, then first order terms, and so on.  The intercept is the only zero order term. Let's see the ordering in action:"
     ]
    },
    {
     "cell_type": "code",
     "collapsed": false,
     "input": [
      "%%R\n",
      "print(attributes(terms(~A:B +1 + B))$term) # actually the intercept does not appear in the terms\n",
      "print(attributes(terms(~D + A:B:C + A + B + E))$term)"
     ],
     "language": "python",
     "metadata": {},
     "outputs": [
      {
       "output_type": "display_data",
       "text": [
        "[1] \"B\"   \"A:B\"\n",
        "[1] \"D\"     \"A\"     \"B\"     \"E\"     \"A:B:C\"\n"
       ]
      }
     ],
<<<<<<< HEAD
     "prompt_number": 64
=======
     "prompt_number": 65
>>>>>>> 49456bd5b0b4623f1b0fa981a3b1e5c253e34b99
    },
    {
     "cell_type": "heading",
     "level": 3,
     "metadata": {},
     "source": [
      "Column space of interactions"
     ]
    },
    {
     "cell_type": "markdown",
     "metadata": {},
     "source": [
      "This is to be specific about the meaning of interactions, in terms of column space.  Any design matrix that models an interaction must contain this column space."
     ]
    },
    {
     "cell_type": "heading",
     "level": 4,
     "metadata": {},
     "source": [
      "Numeric:numeric interactions"
     ]
    },
    {
     "cell_type": "markdown",
     "metadata": {},
     "source": [
      "The column space of a numeric:numeric interaction is just the elementwise product of the two numeric variables.  That is, the interaction between two length $N$ vectors $x, z$ is given by the \n",
      "vector $x_1 z_1, x_2 z_2,... x_P, z_P$.  For example:"
     ]
    },
    {
     "cell_type": "code",
     "collapsed": false,
     "input": [
      "%R print(model.matrix(~ x1 + x2 + x1:x2 - 1))\n",
      "x1 * x2"
     ],
     "language": "python",
     "metadata": {},
     "outputs": [
      {
       "output_type": "display_data",
       "text": [
        "   x1 x2 x1:x2\n",
        "1  49  0     0\n",
        "2  50  1    50\n",
        "3  45  2    90\n",
        "4  53  3   159\n",
        "5  69  4   276\n",
        "6  73  5   365\n",
        "7  35  6   210\n",
        "8  40  7   280\n",
        "9  36  8   288\n",
        "10 30  9   270\n",
        "11 49 10   490\n",
        "12 36 11   396\n",
        "13 73 12   876\n",
        "14 61 13   793\n",
        "15 74 14  1036\n",
        "attr(,\"assign\")\n",
        "[1] 1 2 3\n"
       ]
      },
      {
       "output_type": "pyout",
<<<<<<< HEAD
       "prompt_number": 65,
=======
       "prompt_number": 66,
>>>>>>> 49456bd5b0b4623f1b0fa981a3b1e5c253e34b99
       "text": [
        "array([    0.,    50.,    90.,   159.,   276.,   365.,   210.,   280.,\n",
        "         288.,   270.,   490.,   396.,   876.,   793.,  1036.])"
       ]
      }
     ],
<<<<<<< HEAD
     "prompt_number": 65
=======
     "prompt_number": 66
>>>>>>> 49456bd5b0b4623f1b0fa981a3b1e5c253e34b99
    },
    {
     "cell_type": "heading",
     "level": 4,
     "metadata": {},
     "source": [
      "Factor:factor interactions"
     ]
    },
    {
     "cell_type": "markdown",
     "metadata": {},
     "source": [
      "The column space of a factor:factor interaction is given by a set of indicator columns in which there is one indicator column for each unique combination of levels in the two factors. So if the first factor has $P$ levels, and the second factor has $Q$ levels, there will be $P * Q$ columns in the interaction. Put otherwise, the column space of the interaction for two factors $f1, f2$ is given by taking the matrix giving indicator coding for $f1$ (call this $M_1$) and the matrix giving indicator coding for $f2$ (call this $M_2$) and creating a new matrix $M_{1,2}$ that has the products of all columns of $M_1$ with all columns of $M_2$:"
     ]
    },
    {
     "cell_type": "code",
     "collapsed": false,
     "input": [
      "X_nat = %R model.matrix(~ nationality - 1) # indicator coding\n",
      "X_awe = %R model.matrix(~ awesome - 1) # indicator coding\n",
      "X_both = %R model.matrix(~ nationality:awesome - 1)\n",
      "print X_nat\n",
      "print X_awe\n",
      "print X_both"
     ],
     "language": "python",
     "metadata": {},
     "outputs": [
      {
       "output_type": "stream",
       "stream": "stdout",
       "text": [
        "[[ 0.  0.  1.]\n",
        " [ 0.  0.  1.]\n",
        " [ 0.  0.  1.]\n",
        " [ 0.  0.  1.]\n",
        " [ 0.  0.  1.]\n",
        " [ 0.  1.  0.]\n",
        " [ 0.  1.  0.]\n",
        " [ 0.  1.  0.]\n",
        " [ 0.  1.  0.]\n",
        " [ 0.  1.  0.]\n",
        " [ 1.  0.  0.]\n",
        " [ 1.  0.  0.]\n",
        " [ 1.  0.  0.]\n",
        " [ 1.  0.  0.]\n",
        " [ 1.  0.  0.]]\n",
        "[[ 0.  1.]\n",
        " [ 1.  0.]\n",
        " [ 0.  1.]\n",
        " [ 1.  0.]\n",
        " [ 0.  1.]\n",
        " [ 1.  0.]\n",
        " [ 0.  1.]\n",
        " [ 1.  0.]\n",
        " [ 0.  1.]\n",
        " [ 1.  0.]\n",
        " [ 0.  1.]\n",
        " [ 1.  0.]\n",
        " [ 0.  1.]\n",
        " [ 1.  0.]\n",
        " [ 0.  1.]]\n",
        "[[ 0.  0.  0.  0.  0.  1.]\n",
        " [ 0.  0.  1.  0.  0.  0.]\n",
        " [ 0.  0.  0.  0.  0.  1.]\n",
        " [ 0.  0.  1.  0.  0.  0.]\n",
        " [ 0.  0.  0.  0.  0.  1.]\n",
        " [ 0.  1.  0.  0.  0.  0.]\n",
        " [ 0.  0.  0.  0.  1.  0.]\n",
        " [ 0.  1.  0.  0.  0.  0.]\n",
        " [ 0.  0.  0.  0.  1.  0.]\n",
        " [ 0.  1.  0.  0.  0.  0.]\n",
        " [ 0.  0.  0.  1.  0.  0.]\n",
        " [ 1.  0.  0.  0.  0.  0.]\n",
        " [ 0.  0.  0.  1.  0.  0.]\n",
        " [ 1.  0.  0.  0.  0.  0.]\n",
        " [ 0.  0.  0.  1.  0.  0.]]\n"
       ]
      }
     ],
<<<<<<< HEAD
     "prompt_number": 66
=======
     "prompt_number": 67
>>>>>>> 49456bd5b0b4623f1b0fa981a3b1e5c253e34b99
    },
    {
     "cell_type": "heading",
     "level": 4,
     "metadata": {},
     "source": [
      "Factor:numeric interactions"
     ]
    },
    {
     "cell_type": "markdown",
     "metadata": {},
     "source": [
      "The column space of a factor:numeric interaction is given by taking the matrix giving indicator coding of the factor $f$ (call this $M$) and multiplying each column in $M$ by the numeric variable.  This is varying slope model, where the slope of the relationship of the response variable $Y$ and the numeric variable $x$ differs according to the levels of the factor $f$.  For example:"
     ]
    },
    {
     "cell_type": "code",
     "collapsed": false,
     "input": [
      "%R model.matrix(~ x1:nationality - 1)"
     ],
     "language": "python",
     "metadata": {},
     "outputs": [
      {
       "output_type": "pyout",
<<<<<<< HEAD
       "prompt_number": 67,
=======
       "prompt_number": 68,
>>>>>>> 49456bd5b0b4623f1b0fa981a3b1e5c253e34b99
       "text": [
        "array([[  0.,   0.,  49.],\n",
        "       [  0.,   0.,  50.],\n",
        "       [  0.,   0.,  45.],\n",
        "       [  0.,   0.,  53.],\n",
        "       [  0.,   0.,  69.],\n",
        "       [  0.,  73.,   0.],\n",
        "       [  0.,  35.,   0.],\n",
        "       [  0.,  40.,   0.],\n",
        "       [  0.,  36.,   0.],\n",
        "       [  0.,  30.,   0.],\n",
        "       [ 49.,   0.,   0.],\n",
        "       [ 36.,   0.,   0.],\n",
        "       [ 73.,   0.,   0.],\n",
        "       [ 61.,   0.,   0.],\n",
        "       [ 74.,   0.,   0.]])"
       ]
      }
     ],
<<<<<<< HEAD
     "prompt_number": 67
=======
     "prompt_number": 68
>>>>>>> 49456bd5b0b4623f1b0fa981a3b1e5c253e34b99
    },
    {
     "cell_type": "heading",
     "level": 3,
     "metadata": {},
     "source": [
      "Coding of factors"
     ]
    },
    {
     "cell_type": "markdown",
     "metadata": {},
     "source": [
      "Once the terms have been ordered, R has to make a design matrix.  The one decision left is how to code the factors - should they use 'indicator' coding or 'contrast' coding.  The rule is the following:\n",
      "\n",
      "> Suppose we have an expanded formula with $p$ factors [*elements* in my terminology]: $F_1,F_2,...,F_p$.  and $m$ terms: $T_1 + T_2+...+T_m$ ...\n",
      "\n",
      "> \"Suppose $F_J$ is any factor included in term $T_i$.  Let $T_{i(j)}$ denote the *margin* of $T_i$ for factor $F_j$ - that is, the term obtained by dropping $F_j$ from $T_i$.  We say that $T_{i(j)}$ has appeared in the formula if there is some term $T_{i'}$ for $i' < i$ such that $T_{i'}$ contains all the factors appearing in $T_{i(j)}$.  The usual case is that $T_{i(j)}$ itself is one of the preceding terms.  Then $F_j$ is coded by contrasts if $T_{i(j)}$ has appeared in the formula and by dummy variables if it has not\" S models chapter, section 2.4.1\n",
      "\n",
      "Coding with dummy variables in the quote above means coding with indicator variables in my terminology.\n",
      "\n",
      "Let us explore these rules. For the sake of these rules, a factor `f` on its own (no interactions) should be read as the interaction between the factor and the intercept; that is `f` $\\implies$ `1:f`.\n",
      "\n",
      "So - a model with one factor and the intercept - `~ nationality` (= `~ nationality + 1`):"
     ]
    },
    {
     "cell_type": "code",
     "collapsed": false,
     "input": [
      "%R model.matrix(~ 1 + nationality)"
     ],
     "language": "python",
     "metadata": {},
     "outputs": [
      {
       "output_type": "pyout",
<<<<<<< HEAD
       "prompt_number": 68,
=======
       "prompt_number": 69,
>>>>>>> 49456bd5b0b4623f1b0fa981a3b1e5c253e34b99
       "text": [
        "array([[ 1.,  0.,  1.],\n",
        "       [ 1.,  0.,  1.],\n",
        "       [ 1.,  0.,  1.],\n",
        "       [ 1.,  0.,  1.],\n",
        "       [ 1.,  0.,  1.],\n",
        "       [ 1.,  1.,  0.],\n",
        "       [ 1.,  1.,  0.],\n",
        "       [ 1.,  1.,  0.],\n",
        "       [ 1.,  1.,  0.],\n",
        "       [ 1.,  1.,  0.],\n",
        "       [ 1.,  0.,  0.],\n",
        "       [ 1.,  0.,  0.],\n",
        "       [ 1.,  0.,  0.],\n",
        "       [ 1.,  0.,  0.],\n",
        "       [ 1.,  0.,  0.]])"
       ]
      }
     ],
<<<<<<< HEAD
     "prompt_number": 68
=======
     "prompt_number": 69
>>>>>>> 49456bd5b0b4623f1b0fa981a3b1e5c253e34b99
    },
    {
     "cell_type": "markdown",
     "metadata": {},
     "source": [
      "Logic: R reaches term `nationality`; it interprets this as the interaction of `nationality` and the intercept.  Removing `nationality` from this term it looks backwards for the intercept, finds it, and thus codes `nationality` with contrast coding.  But, if no intercept:"
     ]
    },
    {
     "cell_type": "code",
     "collapsed": false,
     "input": [
      "%R model.matrix(~ nationality - 1)"
     ],
     "language": "python",
     "metadata": {},
     "outputs": [
      {
       "output_type": "pyout",
<<<<<<< HEAD
       "prompt_number": 69,
=======
       "prompt_number": 70,
>>>>>>> 49456bd5b0b4623f1b0fa981a3b1e5c253e34b99
       "text": [
        "array([[ 0.,  0.,  1.],\n",
        "       [ 0.,  0.,  1.],\n",
        "       [ 0.,  0.,  1.],\n",
        "       [ 0.,  0.,  1.],\n",
        "       [ 0.,  0.,  1.],\n",
        "       [ 0.,  1.,  0.],\n",
        "       [ 0.,  1.,  0.],\n",
        "       [ 0.,  1.,  0.],\n",
        "       [ 0.,  1.,  0.],\n",
        "       [ 0.,  1.,  0.],\n",
        "       [ 1.,  0.,  0.],\n",
        "       [ 1.,  0.,  0.],\n",
        "       [ 1.,  0.,  0.],\n",
        "       [ 1.,  0.,  0.],\n",
        "       [ 1.,  0.,  0.]])"
       ]
      }
     ],
<<<<<<< HEAD
     "prompt_number": 69
=======
     "prompt_number": 70
>>>>>>> 49456bd5b0b4623f1b0fa981a3b1e5c253e34b99
    },
    {
     "cell_type": "markdown",
     "metadata": {},
     "source": [
      "Logic: R finds `nationality`, interprets as `1:nationality`, removes nationality and looks for the intercept in previous terms in the expanded formula, does not find it, so uses indicator coding for `nationality`.\n",
      "\n",
      "How about?"
     ]
    },
    {
     "cell_type": "code",
     "collapsed": false,
     "input": [
      "%R print(model.matrix(~ nationality + awesome + nationality:awesome - 1))"
     ],
     "language": "python",
     "metadata": {},
     "outputs": [
      {
       "output_type": "display_data",
       "text": [
        "   nationalityFrance nationalityUK nationalityUSA awesomeYes\n",
        "1                  0             0              1          1\n",
        "2                  0             0              1          0\n",
        "3                  0             0              1          1\n",
        "4                  0             0              1          0\n",
        "5                  0             0              1          1\n",
        "6                  0             1              0          0\n",
        "7                  0             1              0          1\n",
        "8                  0             1              0          0\n",
        "9                  0             1              0          1\n",
        "10                 0             1              0          0\n",
        "11                 1             0              0          1\n",
        "12                 1             0              0          0\n",
        "13                 1             0              0          1\n",
        "14                 1             0              0          0\n",
        "15                 1             0              0          1\n",
        "   nationalityUK:awesomeYes nationalityUSA:awesomeYes\n",
        "1                         0                         1\n",
        "2                         0                         0\n",
        "3                         0                         1\n",
        "4                         0                         0\n",
        "5                         0                         1\n",
        "6                         0                         0\n",
        "7                         1                         0\n",
        "8                         0                         0\n",
        "9                         1                         0\n",
        "10                        0                         0\n",
        "11                        0                         0\n",
        "12                        0                         0\n",
        "13                        0                         0\n",
        "14                        0                         0\n",
        "15                        0                         0\n",
        "attr(,\"assign\")\n",
        "[1] 1 1 1 2 3 3\n",
        "attr(,\"contrasts\")\n",
        "attr(,\"contrasts\")$nationality\n",
        "[1] \"contr.treatment\"\n",
        "\n",
        "attr(,\"contrasts\")$awesome\n",
        "[1] \"contr.treatment\"\n",
        "\n"
       ]
      }
     ],
<<<<<<< HEAD
     "prompt_number": 70
=======
     "prompt_number": 71
>>>>>>> 49456bd5b0b4623f1b0fa981a3b1e5c253e34b99
    },
    {
     "cell_type": "markdown",
     "metadata": {},
     "source": [
      "We recognize the first three columns as indicator coding for `nationality`, following the same logic as above. Next we have the term `awesome`, considered as `1:awesome`.  Has `1` appeared previously?  Yes, because the previous term was in fact `1:nationality`.  So, we code `awesome` with contrast coding.  The treatment contrast coding is a column coding only `awesomeYes`.  Now we reach the term `nationality:awesome`.  Considering `nationality` in `nationality:awesome`: we have seen `awesome` before, so we want contrast coding for `nationality` in the term `nationality:awesome`.  Considering `awesome` in `nationality:awesome`: we have seen `nationality` before, so we want contrast coding for `awesome` in the term `nationality:awesome`.  So, the interaction is the column product of the treatment contrast columns for `nationality` and the treatment contrast column for `awesome`.\n",
      "\n",
      "What if we have a factor in an interaction that has not previously appeared in the formula?"
     ]
    },
    {
     "cell_type": "code",
     "collapsed": false,
     "input": [
      "%R print(model.matrix(~ nationality + nationality:awesome - 1))"
     ],
     "language": "python",
     "metadata": {},
     "outputs": [
      {
       "output_type": "display_data",
       "text": [
        "   nationalityFrance nationalityUK nationalityUSA nationalityFrance:awesomeYes\n",
        "1                  0             0              1                            0\n",
        "2                  0             0              1                            0\n",
        "3                  0             0              1                            0\n",
        "4                  0             0              1                            0\n",
        "5                  0             0              1                            0\n",
        "6                  0             1              0                            0\n",
        "7                  0             1              0                            0\n",
        "8                  0             1              0                            0\n",
        "9                  0             1              0                            0\n",
        "10                 0             1              0                            0\n",
        "11                 1             0              0                            1\n",
        "12                 1             0              0                            0\n",
        "13                 1             0              0                            1\n",
        "14                 1             0              0                            0\n",
        "15                 1             0              0                            1\n",
        "   nationalityUK:awesomeYes nationalityUSA:awesomeYes\n",
        "1                         0                         1\n",
        "2                         0                         0\n",
        "3                         0                         1\n",
        "4                         0                         0\n",
        "5                         0                         1\n",
        "6                         0                         0\n",
        "7                         1                         0\n",
        "8                         0                         0\n",
        "9                         1                         0\n",
        "10                        0                         0\n",
        "11                        0                         0\n",
        "12                        0                         0\n",
        "13                        0                         0\n",
        "14                        0                         0\n",
        "15                        0                         0\n",
        "attr(,\"assign\")\n",
        "[1] 1 1 1 2 2 2\n",
        "attr(,\"contrasts\")\n",
        "attr(,\"contrasts\")$nationality\n",
        "[1] \"contr.treatment\"\n",
        "\n",
        "attr(,\"contrasts\")$awesome\n",
        "[1] \"contr.treatment\"\n",
        "\n"
       ]
      }
     ],
<<<<<<< HEAD
     "prompt_number": 71
=======
     "prompt_number": 72
>>>>>>> 49456bd5b0b4623f1b0fa981a3b1e5c253e34b99
    },
    {
     "cell_type": "markdown",
     "metadata": {},
     "source": [
      "Now we reach the term `nationality:awesome`.  Considering `nationality` in `nationality:awesome`; we have *not* seen `awesome` before, so we need indicator coding for `nationality`.  Considering `awesome` in `nationality:awesome`; we have seen `nationality` before, so we want contrast coding for `awesome`.  The resulting interaction columns are the column products of indicator coding for `nationality` and treatment contrast coding for `awesome`.\n",
      "\n",
      "Let's try with a numerical variable:"
     ]
    },
    {
     "cell_type": "code",
     "collapsed": false,
     "input": [
      "%R model.matrix(~ x1:nationality + x1:awesome)"
     ],
     "language": "python",
     "metadata": {},
     "outputs": [
      {
       "output_type": "pyout",
<<<<<<< HEAD
       "prompt_number": 72,
=======
       "prompt_number": 73,
>>>>>>> 49456bd5b0b4623f1b0fa981a3b1e5c253e34b99
       "text": [
        "array([[  1.,   0.,   0.,  49.,  49.],\n",
        "       [  1.,   0.,   0.,  50.,   0.],\n",
        "       [  1.,   0.,   0.,  45.,  45.],\n",
        "       [  1.,   0.,   0.,  53.,   0.],\n",
        "       [  1.,   0.,   0.,  69.,  69.],\n",
        "       [  1.,   0.,  73.,   0.,   0.],\n",
        "       [  1.,   0.,  35.,   0.,  35.],\n",
        "       [  1.,   0.,  40.,   0.,   0.],\n",
        "       [  1.,   0.,  36.,   0.,  36.],\n",
        "       [  1.,   0.,  30.,   0.,   0.],\n",
        "       [  1.,  49.,   0.,   0.,  49.],\n",
        "       [  1.,  36.,   0.,   0.,   0.],\n",
        "       [  1.,  73.,   0.,   0.,  73.],\n",
        "       [  1.,  61.,   0.,   0.,   0.],\n",
        "       [  1.,  74.,   0.,   0.,  74.]])"
       ]
      }
     ],
<<<<<<< HEAD
     "prompt_number": 72
=======
     "prompt_number": 73
>>>>>>> 49456bd5b0b4623f1b0fa981a3b1e5c253e34b99
    },
    {
     "cell_type": "markdown",
     "metadata": {},
     "source": [
      "Consider `nationality` in `x1:nationality`.  Seen `x1` before?  No, so we need indicator coding for `nationality`.  The second, third, fourth columns are the product of numerical vector `x1` with indicator coding for `nationality`.  Consider `awesome` in `x1:awesome`.  Have we seen `x1` before?  Yes, in `x1:nationality`, so we see the product of `x1` and contrast coding for `awesome`."
     ]
    },
    {
     "cell_type": "heading",
     "level": 3,
     "metadata": {},
     "source": [
      "Why go to all this trouble with reordering and contrast coding?  Isn't indicator coding easier to understand?"
     ]
    },
    {
     "cell_type": "markdown",
     "metadata": {},
     "source": [
      "Ah, yes, good question.  The S models chapter gives two explanations, numerical and statistical.   "
     ]
    },
    {
     "cell_type": "heading",
     "level": 4,
     "metadata": {},
     "source": [
      "The numerical argument"
     ]
    },
    {
     "cell_type": "markdown",
     "metadata": {},
     "source": [
      "If you use indicator codings for more than one factor, then the columns for first factor will add to a column of ones, and so will the columns for the second factor.  This means two things.  First, the design matrix is rank deficient, in that the same column space can be represented by one fewer columns.  I suppose there were some numerical methods for solving for the parameters $B$ that needed full-rank matrices, but if there are still such methods that are widely used, I don't know what they are.  I believe the most common method for estimation is to use the pseudoinverse, that does not require full-rank matrices.\n",
      "\n",
<<<<<<< HEAD
      "If there are very many factors, say $M$ factors, and we just model the main effects, and we always use indicator coding, then there will be $M-1$ redundant columns in the design, and this could slow down estimation and increase memory use, but I guess the case of $M$ being large enough to cause a problem is rather rare."
=======
      "If there are very many factors, say $M$ factors, then there will be $M$ redundant columns in the design, and this could slow down estimation and increase memory use, but I guess the case of $M$ being large enough to cause a problem is rather rare."
>>>>>>> 49456bd5b0b4623f1b0fa981a3b1e5c253e34b99
     ]
    },
    {
     "cell_type": "heading",
     "level": 4,
     "metadata": {},
     "source": [
      "The statistical argument"
     ]
    },
    {
     "cell_type": "markdown",
     "metadata": {},
     "source": [
      "In part we have heard this argument already.  The formula is a kind of shorthand for an heirarchical ANOVA model, seen in the model fit summary, but most clearly in the `anova` table.  The intention is to make the parameters from the fit meaningful in terms of hypotheses that R believes you encoded in the arrangement of terms in your formula.  The contrast coding rules make these $B$ coefficients more useful for this purpose.\n",
      "\n",
      "The problem with indicator coding is that the coefficients from the estimation are often not useful without further testing.  For two factors with indicator coding, there is an immediate problem with interpreting the $B$ coefficients; they are not uniquely estimable.  Let's say we do a fit of the design $X$ to the data $Y$, giving us a parameter vector $B$.  Remember that the indicator columns for the first factor will sum to a column of ones, and so will the indicator columns for the second factor. This means that we can add a constant $S$ to the beta coefficients for all levels of the first factor, subtract $S$ from all the betas for the levels of the second factor, and still get the same $\\hat{Y}$.  The values in $B$ are not *uniquely estimable* in that there are an infinite set of $B$ coeffcients with the same $\\hat{Y}$:"
     ]
    },
    {
     "cell_type": "code",
     "collapsed": false,
     "input": [
      "X_nat = %R model.matrix(~ nationality - 1) # indicator coding\n",
      "X_awe = %R model.matrix(~ awesome - 1) # indicator coding\n",
      "X = np.column_stack((X_nat, X_awe)) # our design with indicator coding for both\n",
      "# Do an estimation.  This is ordinary least squares, but it doesn't matter how we get the estimate\n",
      "B = np.dot(np.linalg.pinv(X), Y)\n",
      "Y_hat = np.dot(X, B) # fitted values\n",
      "print \"OLS coefficient estimate\", B\n",
      "print \"Fitted values\", Y_hat\n",
      "S = 100 # any old constant value\n",
      "B2 = B[:] # Make a new parameter vector with the constant applied\n",
      "B2[:3] += S\n",
      "B2[3:] -= S\n",
      "print \"Parameters with constant added, subtracted\", B2\n",
      "print \"Same Yhat?\", np.allclose(Y_hat, np.dot(X, B2)) # Are the fitted values the same?"
     ],
     "language": "python",
     "metadata": {},
     "outputs": [
      {
       "output_type": "stream",
       "stream": "stdout",
       "text": [
        "OLS coefficient estimate [ 38.55297778  72.56353333  43.51097778  61.50735556  93.12013333]\n",
        "Fitted values [ 136.63111111  105.01833333  136.63111111  105.01833333  136.63111111\n",
        "  134.07088889  165.68366667  134.07088889  165.68366667  134.07088889\n",
        "  131.67311111  100.06033333  131.67311111  100.06033333  131.67311111]\n",
        "Parameters with constant added, subtracted [ 138.55297778  172.56353333  143.51097778  -38.49264444   -6.87986667]\n",
        "Same Yhat? True\n"
       ]
      }
     ],
<<<<<<< HEAD
     "prompt_number": 73
=======
     "prompt_number": 74
>>>>>>> 49456bd5b0b4623f1b0fa981a3b1e5c253e34b99
    },
    {
     "cell_type": "markdown",
     "metadata": {},
     "source": [
      "You might say - oh - well - I'll do contrasts to look at the effects, I don't care too much about the $B$ coefficient values anyway.  And I'd probably agree with you.  But that's another story."
     ]
    },
    {
     "cell_type": "heading",
     "level": 4,
     "metadata": {},
     "source": [
      "It doesn't always work"
     ]
    },
    {
     "cell_type": "markdown",
     "metadata": {},
     "source": [
      "Despite the contrast coding rules, it's relatively easy to get designs that aren't uniquely estimable:"
     ]
    },
    {
     "cell_type": "code",
     "collapsed": false,
     "input": [
      "%R print(lm(Y ~ nationality:awesome))"
     ],
     "language": "python",
     "metadata": {},
     "outputs": [
      {
       "output_type": "display_data",
       "text": [
        "\n",
        "Call:\n",
        "lm(formula = Y ~ nationality:awesome)\n",
        "\n",
        "Coefficients:\n",
        "                 (Intercept)   nationalityFrance:awesomeNo  \n",
        "                     141.130                       -51.900  \n",
        "     nationalityUK:awesomeNo      nationalityUSA:awesomeNo  \n",
        "                       4.660                       -42.860  \n",
        "nationalityFrance:awesomeYes      nationalityUK:awesomeYes  \n",
        "                      -2.237                         6.975  \n",
        "   nationalityUSA:awesomeYes  \n",
        "                          NA  \n",
        "\n"
       ]
      }
     ],
<<<<<<< HEAD
     "prompt_number": 74
    },
    {
     "cell_type": "markdown",
     "metadata": {},
     "source": [
      "Why the redundant column at the end?  It might be clear from the design matrix column names that we got indicator coding for the interaction, when we already had an intercept.  Why?  Because when we got to `nationality:awesome`, we ask \"have we seen `awesome`\" - no - then we use indicator coding for `nationality` in the interaction.  Similarly we have indicator coding for `awesome` in the interaction, giving indicator coding for the interaction overall, and a rank deficient design.  This often happens with three-way or greater interactions.  To demonstrate, let's make another two factors, `popular` and `overrated`:"
     ]
    },
    {
     "cell_type": "code",
     "collapsed": false,
     "input": [
      "popular = ['Yes'] * 8 + ['No'] * 7\n",
      "overrated = ['Yes', 'Yes', 'No', 'No', 'Yes', 'Yes', 'No', 'No', 'Yes', 'Yes', 'No', 'No', 'Yes', 'Yes', 'No']"
     ],
     "language": "python",
     "metadata": {},
     "outputs": [],
     "prompt_number": 75
    },
    {
     "cell_type": "markdown",
     "metadata": {},
     "source": [
      "We get a rank deficient design here, in fairly ordinary cases:"
     ]
    },
    {
     "cell_type": "code",
     "collapsed": false,
     "input": [
      "%%R -i popular,overrated\n",
      "popular = factor(popular)\n",
      "overrated = factor(overrated)\n",
      "print(lm(Y ~ awesome + popular + overrated + awesome:popular:overrated))"
     ],
     "language": "python",
     "metadata": {},
     "outputs": [
      {
       "output_type": "display_data",
       "text": [
        "\n",
        "Call:\n",
        "lm(formula = Y ~ awesome + popular + overrated + awesome:popular:overrated)\n",
        "\n",
        "Coefficients:\n",
        "                       (Intercept)                          awesomeYes  \n",
        "                           156.545                              -6.635  \n",
        "                        popularYes                        overratedYes  \n",
        "                             0.880                             -12.215  \n",
        "   awesomeNo:popularNo:overratedNo    awesomeYes:popularNo:overratedNo  \n",
        "                           -67.245                              -8.830  \n",
        "  awesomeNo:popularYes:overratedNo   awesomeYes:popularYes:overratedNo  \n",
        "                           -46.935                                  NA  \n",
        "  awesomeNo:popularNo:overratedYes   awesomeYes:popularNo:overratedYes  \n",
        "                           -38.495                                  NA  \n",
        " awesomeNo:popularYes:overratedYes  awesomeYes:popularYes:overratedYes  \n",
        "                                NA                                  NA  \n",
        "\n"
       ]
      }
     ],
     "prompt_number": 76
    },
    {
     "cell_type": "code",
     "collapsed": false,
     "input": [
      "X_3 = %R model.matrix(~ awesome + popular + overrated + awesome:popular:overrated)\n",
      "show_x(X_3)"
     ],
     "language": "python",
     "metadata": {},
     "outputs": [
      {
       "output_type": "display_data",
       "png": "iVBORw0KGgoAAAANSUhEUgAAAM8AAAEICAYAAAD4G6DnAAAABHNCSVQICAgIfAhkiAAAAAlwSFlz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\nQmCC\n",
       "text": [
        "<matplotlib.figure.Figure at 0x107b77810>"
       ]
      }
     ],
     "prompt_number": 77
    },
    {
     "cell_type": "markdown",
     "metadata": {},
     "source": [
      "So what went wrong?  For the same reasons as before, the single terms `awesome`, `popular`, `overrated` each got contrast coding, and therefore one column each.  So far so good.  Next we look at `awesome:popular:overrated`.   We first remove `awesome` and ask \"have we seen `popular:overrated`?\"  No, hence we will use indicator coding for `awesome` in the interaction.  For the same reason we get indicator coding for all of the factors in the interaction, and therefore a full 8 columns for the indicator coding of the interaction.  These 8 columns also code the column space of the intercept and the single terms `awesome`, `popular`, `overrated` that we have already included in the design."
     ]
=======
     "prompt_number": 78
>>>>>>> 49456bd5b0b4623f1b0fa981a3b1e5c253e34b99
    },
    {
     "cell_type": "heading",
     "level": 2,
     "metadata": {},
     "source": [
      "That's it"
     ]
    },
    {
     "cell_type": "markdown",
     "metadata": {},
     "source": [
<<<<<<< HEAD
      "In another notebook, I'll try to explain why I think the R formula is too magic for the Python world, and why it harms understanding of linear models in terms of matrices and column spaces.  But that is for another day. "
=======
      "In another notebook, I'll try to explain why I think the R formula is too magic for the Python world, and why it harms understanding of linear models in terms of matrices and column spaces.  But that is for another day.  I'm tired today."
>>>>>>> 49456bd5b0b4623f1b0fa981a3b1e5c253e34b99
     ]
    },
    {
     "cell_type": "code",
     "collapsed": false,
     "input": [],
     "language": "python",
     "metadata": {},
<<<<<<< HEAD
     "outputs": [],
     "prompt_number": 77
=======
     "outputs": []
>>>>>>> 49456bd5b0b4623f1b0fa981a3b1e5c253e34b99
    }
   ],
   "metadata": {}
  }
 ]
}